{
 "cells": [
  {
   "cell_type": "code",
   "execution_count": 1,
   "id": "201258ca-2454-4e0f-bb98-807824e07fe8",
   "metadata": {},
   "outputs": [
    {
     "name": "stderr",
     "output_type": "stream",
     "text": [
      "/cvmfs/ara.opensciencegrid.org/trunk/centos7/root_build/lib/cppyy/__init__.py:72: DeprecationWarning: invalid escape sequence \\d\n",
      "  if re.match('^libcppyy_backend\\d_\\d$', lib_name):\n"
     ]
    },
    {
     "name": "stdout",
     "output_type": "stream",
     "text": [
      "Welcome to JupyROOT 6.22/06\n"
     ]
    }
   ],
   "source": [
    "import numpy as np\n",
    "import matplotlib.pyplot as plt\n",
    "import matplotlib as mpl\n",
    "import pandas as pd\n",
    "import pyrex\n",
    "#import pyrex.custom.ara as ara\n",
    "from pyrex.internal_functions import normalize\n",
    "import os\n",
    "import sys\n",
    "import seaborn as sns\n",
    "import polReco_util as util\n",
    "import scipy\n",
    "\n",
    "import ROOT\n",
    "from ROOT import TCanvas, TGraph\n",
    "from ROOT import gROOT\n",
    "from ROOT import gInterpreter, gSystem\n",
    "from ROOT import TChain, TSelector, TTree\n",
    "from scipy.stats import norm\n",
    "from scipy.stats import rayleigh\n",
    "\n",
    "#add headers from AraSim. Not sure if all of them are needed, and I'm lazy to check that. MAK SURE to change the location of the headers\n",
    "gInterpreter.ProcessLine('#include \"/cvmfs/ara.opensciencegrid.org/trunk/centos7/source/AraSim/Position.h\"')\n",
    "gInterpreter.ProcessLine('#include \"/cvmfs/ara.opensciencegrid.org/trunk/centos7/source/AraSim/Report.h\"')\n",
    "gInterpreter.ProcessLine('#include \"/cvmfs/ara.opensciencegrid.org/trunk/centos7/source/AraSim/Detector.h\"')\n",
    "gInterpreter.ProcessLine('#include \"/cvmfs/ara.opensciencegrid.org/trunk/centos7/source/AraSim/Settings.h\"')\n",
    "\n",
    "gSystem.Load('/cvmfs/ara.opensciencegrid.org/trunk/centos7/source/AraSim/libAra.so') #load the simulation event library. You might get an error asking for the eventSim dictionry. To solve that, go to where you compiled AraSim, find that file, and copy it to where you set LD_LIBRARY_PATH.\n",
    "\n",
    "sys.path.append(\"/cvmfs/ara.opensciencegrid.org/trunk/centos7/source/ARA_cvmfs/root_build/lib/\") # go to parent dir\n",
    "#sys.path.append(\"/users/PCON0003/cond0068/.local/lib/python3.7/site-packages/\")  #I don't have access to this directory in Jorge's account\n",
    "#sys.path.append(\"/users/PAS0654/jflaherty13/.local/lib/python3.9/site-packages/\")\n",
    "# sys.path.append(\"/users/PCON0003/cond0068/pyrex_sims/fromBen/thesis_work/pyrex-custom/analysis/custom/analysis/\")\n",
    "# import ROOT\n",
    "# import math\n",
    "# from ROOT import TH1D,TF1, gRandom, gPad, gStyle\n",
    "#import matplotlib as mpl\n",
    "#import matplotlib.pyplot as plt\n",
    "# from ROOT import TChain, TSelector, TTree\n",
    "#import itertools\n",
    "\n",
    "# mpl.use('agg') \n",
    "mpl.rcParams['text.usetex'] = True\n",
    "#mpl.rcParams['text.latex.preamble'] = [r'\\usepackage{amsmath}'] #for \\text command\n",
    "#mpl.rcParams['text.latex.unicode'] = True\n",
    "mpl.rcParams['mathtext.rm'] = 'Times New Roman'\n",
    "mpl.rcParams['mathtext.it'] = 'Times New Roman:italic'\n",
    "mpl.rcParams['mathtext.bf'] = 'Times New Roman:bold'\n",
    "\n",
    "mpl.rc('font', family='serif', size=12)\n",
    "mpl.rcParams['xtick.labelsize'] = 14\n",
    "mpl.rcParams['ytick.labelsize'] = 14\n",
    "mpl.rcParams['xtick.major.size'] = 5\n",
    "mpl.rcParams['ytick.major.size'] = 5\n",
    "\n",
    "mpl.rcParams['axes.titlesize'] = 18\n",
    "mpl.rcParams['axes.labelsize'] = 18\n",
    "mpl.rc('font', size=16)\n",
    "mpl.rc('axes', titlesize=20)\n",
    "\n",
    "# import mplcyberpunk\n",
    "# plt.style.use(\"cyberpunk\")\n",
    "\n",
    "#current_palette = sns.color_palette('colorblind', 10)\n",
    "current_palette = sns.color_palette('bright', 10)"
   ]
  },
  {
   "cell_type": "code",
   "execution_count": 2,
   "id": "f4a0a2f5-a3db-4847-a1d3-5b746cb943d7",
   "metadata": {},
   "outputs": [],
   "source": [
    "\n",
    "# srcFolder = \"newPolReco/softTriggerOnly/gainCorrected/\"\n",
    "# srcFolder = \"newPolReco/softTriggerHpol/gainCorrected/\"\n",
    "# srcFolder = \"noiseFromWaveforms/\"\n",
    "srcFolder = \"/users/PAS0654/jflaherty13/source/AraSim/outputs/20230710_pulserSims_1000m/withNoise/deconvolution/noiseFromWaveforms\"\n",
    "# srcFolder = \"newPolRecoV3/gainCorrected/\"\n",
    "plotFolder = srcFolder + '/plots/'\n",
    "outputFolder = srcFolder\n",
    "\n",
    "#Create plot directory if it doesn't already exist\n",
    "isExist = os.path.exists(plotFolder)\n",
    "if not isExist:\n",
    "  # Create a new directory because it does not exist \n",
    "  os.makedirs(plotFolder)\n"
   ]
  },
  {
   "cell_type": "code",
   "execution_count": 3,
   "id": "01933f06-2111-4778-a321-716299138069",
   "metadata": {},
   "outputs": [
    {
     "name": "stdout",
     "output_type": "stream",
     "text": [
      "Parsing reco files...\n",
      "Sorting files in order of run number...\n",
      "Importing files in order of run number...\n",
      "Concatenating data...\n",
      "Total number of events: 9100\n"
     ]
    }
   ],
   "source": [
    "#####Next we have to import the R values from Jorge's data structures.\n",
    "appended_data = []\n",
    "fileList = []\n",
    "sortedFiles = []\n",
    "#srcFolder = \"/users/PCON0003/cond0068/ARA_cvmfs/source/AraRoot/analysis/ARA_analysis/Reco_sim/reco_code_cleanUp/data/\"\n",
    "\n",
    "print(\"Parsing reco files...\")\n",
    "for filename in os.listdir(srcFolder):#Loop over desired directory    \n",
    "        if (filename.startswith(\"noiseFromWaveforms\")): #extension, .root in this case\n",
    "        # if (filename.startswith(\"mediansOfWaveformNoise\")): #extension, .root in this case\n",
    "            #name = os.path.join(srcFolder, str(filename))\n",
    "            #data = pd.read_pickle(name)\n",
    "            #appended_data.append(data)\n",
    "            fileList.append(filename)\n",
    "            \n",
    "print(\"Sorting files in order of run number...\")\n",
    "for ele in sorted(fileList):\n",
    "    sortedFiles.append(ele)\n",
    "    \n",
    "print(\"Importing files in order of run number...\")\n",
    "for filename in sorted(sortedFiles):\n",
    "        name = os.path.join(srcFolder, str(filename))\n",
    "        data = pd.read_pickle(name)\n",
    "        appended_data.append(data)            \n",
    "\n",
    "print(\"Concatenating data...\")\n",
    "pol = pd.concat(appended_data) \n",
    "totalEvents = len(pol)\n",
    "print(\"Total number of events: \" + str(totalEvents))"
   ]
  },
  {
   "cell_type": "code",
   "execution_count": 14,
   "id": "f334e353-c63c-4e24-9953-dab89d614c56",
   "metadata": {},
   "outputs": [],
   "source": [
    "#Initialize arrays\n",
    "runNumber = np.zeros(totalEvents)\n",
    "eventNumber = np.zeros(totalEvents)\n",
    "runSubsetNumber = np.zeros(totalEvents)\n",
    "timeStamp = np.zeros(totalEvents)\n",
    "unixTime = np.zeros(totalEvents)\n",
    "hilbertEnvelope = np.zeros((totalEvents,16,100))"
   ]
  },
  {
   "cell_type": "code",
   "execution_count": 15,
   "id": "5f563a85-1730-4dd1-bca8-09fcea0e295c",
   "metadata": {},
   "outputs": [
    {
     "name": "stdout",
     "output_type": "stream",
     "text": [
      "Import completed!\n"
     ]
    }
   ],
   "source": [
    "for i,entry in zip(range(0,len(pol)), pol.itertuples()):\n",
    "    runNumber[i] = entry.runNumber\n",
    "    eventNumber[i] = entry.eventNumber\n",
    "    timeStamp[i] = entry.timeStamp\n",
    "    unixTime[i] = entry.unixTime\n",
    "    hilbertEnvelope[i] = entry.hilbertEnvelope\n",
    " \n",
    "print(\"Import completed!\")"
   ]
  },
  {
   "cell_type": "code",
   "execution_count": 16,
   "id": "64b19dd5-792e-4b17-937b-771d8c8489ce",
   "metadata": {},
   "outputs": [],
   "source": [
    "timeInRun = unixTime - unixTime.min()"
   ]
  },
  {
   "cell_type": "code",
   "execution_count": 18,
   "id": "c5db477b-ddad-47cc-a243-30bbbf26863c",
   "metadata": {},
   "outputs": [],
   "source": [
    "#Flatten hilbert envelopes along channels\n",
    "hilbertFlattenedVPol = np.zeros((totalEvents*100,8))\n",
    "hilbertFlattenedHPol = np.zeros((totalEvents*100,8))\n",
    "for ch in range(8):\n",
    "    hilbertFlattenedVPol[:,ch] = hilbertEnvelope[:,ch,:].flatten()\n",
    "    hilbertFlattenedHPol[:,ch-8] = hilbertEnvelope[:,ch+8,:].flatten()"
   ]
  },
  {
   "cell_type": "code",
   "execution_count": 19,
   "id": "cd77df61-5dbd-4430-9930-6334e1a40776",
   "metadata": {},
   "outputs": [],
   "source": [
    "# #Flatten hilbert envelopes along channels\n",
    "# hilbertFlattenedVPol = np.zeros((totalEvents,8))\n",
    "# hilbertFlattenedHPol = np.zeros((totalEvents,8))\n",
    "# for ch in range(8):\n",
    "#     hilbertFlattenedVPol[:,ch] = hilbertEnvelope[:,ch,:].mean(axis=-1)\n",
    "#     hilbertFlattenedHPol[:,ch-8] = hilbertEnvelope[:,ch+8,:].mean(axis=-1)"
   ]
  },
  {
   "cell_type": "code",
   "execution_count": 20,
   "id": "dd9d17f3-4ff9-49c8-b30f-24fa01654a18",
   "metadata": {},
   "outputs": [],
   "source": [
    "# #Perform eventwise averaging of powers to calculate average value of R.\n",
    "# #We find all passing channel pairs for a single event, average their powers in VPol and HPol, then use that average to calculate R.\n",
    "\n",
    "# def channelPairAverage(array, channelPairs=[0,1,2,3,4,5,6,7,8], snrCutoff=5, snrArray=vSnrs):\n",
    "#     #Define SNR cutoff\n",
    "#     mask = (snrArray > snrCutoff)\n",
    "#     tempArray = np.copy(array)\n",
    "#     #Append masking for channel pairs\n",
    "#     #tempMask = np.ones(array.shape).astype(bool)\n",
    "#     for ch in range(8):\n",
    "#         if ch not in channelPairs:\n",
    "#             mask[:,ch] = False\n",
    "#     #Assign nan's to values that do not pass cuts.\n",
    "#     tempArray[mask] = np.nan\n",
    "#     #Perform average across the channel pairs, ignoring any nan's.\n",
    "#     averagedArray = np.nanmean(tempArray, axis=1)\n",
    "#     #Return array with nan's removed.\n",
    "#     return averagedArray[np.invert(np.isnan(averagedArray))]\n",
    "    "
   ]
  },
  {
   "cell_type": "code",
   "execution_count": 21,
   "id": "48fa90a6-fe32-4aed-b773-07acfb2b9235",
   "metadata": {},
   "outputs": [],
   "source": [
    "# savedChannels = [0,4,5]\n",
    "# snrCutoff=5\n",
    "# powerVCollapse = channelPairAverage(powerV, channelPairs=savedChannels, snrCutoff=snrCutoff)\n",
    "# powerHCollapse = channelPairAverage(powerH, channelPairs=savedChannels, snrCutoff=snrCutoff)\n",
    "# trueRCollapse = abs(channelPairAverage(trueRPairAveraged, channelPairs=savedChannels, snrCutoff=snrCutoff))\n",
    "# vSnrCollapse = channelPairAverage(vSnrs, channelPairs=savedChannels, snrCutoff=snrCutoff)\n",
    "# hSnrCollapse = channelPairAverage(hSnrs, channelPairs=savedChannels, snrCutoff=snrCutoff)\n",
    "\n",
    "# recoRCollapse = np.sqrt(abs(powerHCollapse/powerVCollapse))*np.sign(powerHCollapse/powerVCollapse)\n",
    "\n",
    "# psiRecoCollapse = np.degrees(np.arctan(recoRCollapse))\n",
    "# psiTrueCollapse = np.degrees(np.arctan(trueRCollapse))\n",
    "\n",
    "\n",
    "\n",
    "# #Filter out nan's for other events using eventNumber\n",
    "# nanMask = np.invert(np.isnan(eventNumber))\n",
    "           \n",
    "# weightsCollapse = weights[nanMask]\n",
    "# runNumberCollapse = runNumber[nanMask]\n",
    "# eventNumberCollapse = eventNumber[nanMask]"
   ]
  },
  {
   "cell_type": "code",
   "execution_count": null,
   "id": "9a4b0f1f-bd39-44d9-bf54-655dc15a070c",
   "metadata": {},
   "outputs": [],
   "source": []
  },
  {
   "cell_type": "code",
   "execution_count": 22,
   "id": "115b1189-1b34-4347-b21a-3a6fd72111f3",
   "metadata": {},
   "outputs": [],
   "source": [
    "#Create Histogram plotting functions for all quantities that also implement an SNR cut\n",
    "def makeHistogramByChannelPair(array, addMask=0, snrCutoff=5, pol='', xLims=0, numBins=0, binWidth=1, xLabel='', titleLabel='', fileLabel='', depthCut=0, fit=None, degreeMinCut=0, degreeMaxCut=0):\n",
    "    # print(\"Array length pre degree cut: \" + str(len(array[mask])))\n",
    "    #sns.set(rc = {'figure.figsize':(18,18)},font_scale = 2)\n",
    "    font = {'family' : 'normal',\n",
    "            'weight' : 'bold',\n",
    "            'size'   : 16}\n",
    "\n",
    "    plt.rc('font', **font)\n",
    "    fig, ax = plt.subplots(nrows=2,ncols=4, figsize=(18,9),sharex=True, sharey=True)\n",
    "    ax = ax.ravel()\n",
    "    \n",
    "    extraFileLabel = ''\n",
    "    extraTitleLabel = ''\n",
    "    # if (degreeMinCut != 0):\n",
    "    #     #extraFileLabel += '-degreeMin=' + str(degreeMinCut)\n",
    "    #     #extraTitleLabel +=  ', Angle $>$ ' +  str(degreeMinCut)\n",
    "    #     mask *= array>degreeMinCut\n",
    "    # if (degreeMaxCut != 0):\n",
    "    #     #extraFileLabel += '-degreeMax=' + str(degreeMaxCut)\n",
    "    #     print(\"using degree max cut.\")\n",
    "    #     mask *= array<degreeMaxCut\n",
    "    # print(\"Array length post cut: \" + str(len(array[mask])))\n",
    "    maxBinOut = np.empty(8)\n",
    "    for pair in range(8):\n",
    "        yData, xData, figure = ax[pair].hist(array[:,pair], bins = numBins, density=True)\n",
    "        maxBin = np.median(array[:,pair])\n",
    "        #ax[pair].axvline(maxBin, label=str(maxBin), color='black', linestyle='--')\n",
    "        #ax[pair].axvline(maxBin, label=\"Median = %5.g\"%(maxBin), color='black', linestyle='--')\n",
    "        ax[pair].axvline(maxBin, label=\"Median = {:.2e}\".format(maxBin), color='black', linestyle='--')\n",
    "        if pol in ['vpol', 'VPol', 'Vpol', 'v', 'V']:\n",
    "            ax[pair].set_title(\"Channel \" + str(pair))# + '/' + str(pair+8))\n",
    "        elif pol in ['hpol', 'HPol', 'Hpol', 'h', 'H']:\n",
    "            ax[pair].set_title(\"Channel \" + str(pair+8))# + '/' + str(pair+8))\n",
    "        else:\n",
    "            ax[pair].set_title(\"Channel \" + str(pair) + '/' + str(pair+8))\n",
    "        ax[pair].legend()\n",
    "        maxBinOut[pair] = maxBin\n",
    "    fig.suptitle(titleLabel + extraTitleLabel + \", N = \" + str(int(len(array)/400)))\n",
    "    fig.supylabel(\"Number of Events\")\n",
    "    fig.supxlabel(xLabel)\n",
    "    #plt.xlabel(xLabel)\n",
    "    if (xLims != 0):\n",
    "        ax[0].set_xlim(xLims)\n",
    "    print(maxBinOut)\n",
    "    return maxBinOut\n",
    "    #plt.ylabel(\"Number of Events\")\n",
    "    #plt.legend()\n",
    "\n",
    "    #plt.savefig('./'+plotFolder+'/snrCutoff='+str(snrCutoff)+'/'+fileLabel+'Hist-snrCutoff='+str(snrCutoff)+extraFileLabel+'-PerChannel.png')"
   ]
  },
  {
   "cell_type": "code",
   "execution_count": null,
   "id": "df8ff69f-9389-44c0-befe-5639f6fa3072",
   "metadata": {},
   "outputs": [],
   "source": []
  },
  {
   "cell_type": "code",
   "execution_count": 45,
   "id": "0456501d-f1b2-4002-8ab9-a304beafed54",
   "metadata": {},
   "outputs": [
    {
     "name": "stdout",
     "output_type": "stream",
     "text": [
      "[0.097771   0.05745579 0.06394957 0.08120066 0.06068223 0.11035589\n",
      " 0.06460599 0.07275382]\n"
     ]
    },
    {
     "data": {
      "text/plain": [
       "Text(0.5, 0.98, 'Hilbert Envelope Values of VPol Noise')"
      ]
     },
     "execution_count": 45,
     "metadata": {},
     "output_type": "execute_result"
    },
    {
     "data": {
      "image/png": "[encoded data removed]",
      "text/plain": [
       "<Figure size 1296x648 with 8 Axes>"
      ]
     },
     "metadata": {
      "needs_background": "light"
     },
     "output_type": "display_data"
    }
   ],
   "source": [
    "powerVNoiseMedians = makeHistogramByChannelPair(hilbertFlattenedVPol, xLims=[0,0.5], numBins=100, pol='v', titleLabel=\"Hilbert Envelopes of VPol Noise\", xLabel=\"Hilbert Envelope of Waveform [mV/m]\")\n",
    "plt.suptitle('Hilbert Envelope Values of VPol Noise')"
   ]
  },
  {
   "cell_type": "code",
   "execution_count": 46,
   "id": "61614e7b-73fa-4f0a-a47c-a1decf214738",
   "metadata": {},
   "outputs": [
    {
     "name": "stdout",
     "output_type": "stream",
     "text": [
      "[0.05654482 0.09287774 0.0919257  0.08902603 0.07838613 0.12511595\n",
      " 0.08134452 0.03727756]\n"
     ]
    },
    {
     "data": {
      "text/plain": [
       "Text(0.5, 0.98, 'Hilbert Envelope Values of HPol Noise')"
      ]
     },
     "execution_count": 46,
     "metadata": {},
     "output_type": "execute_result"
    },
    {
     "data": {
      "image/png": "[encoded data removed]",
      "text/plain": [
       "<Figure size 1296x648 with 8 Axes>"
      ]
     },
     "metadata": {
      "needs_background": "light"
     },
     "output_type": "display_data"
    }
   ],
   "source": [
    "powerHNoiseMedians = makeHistogramByChannelPair(hilbertFlattenedHPol, xLims=[0,0.5], numBins=100, pol='h', titleLabel=\"Hilbert Envelope Values of HPol\", xLabel=\"Hilbert Envelope of Waveform [mV/m]\")\n",
    "plt.suptitle('Hilbert Envelope Values of HPol Noise')"
   ]
  },
  {
   "cell_type": "code",
   "execution_count": 37,
   "id": "8181dbc5-4537-49f1-96f3-d95b60c83bfa",
   "metadata": {},
   "outputs": [],
   "source": [
    "powerNoiseMedians = np.concatenate((powerVNoiseMedians,powerHNoiseMedians))"
   ]
  },
  {
   "cell_type": "code",
   "execution_count": 26,
   "id": "95ca0308-15f5-4649-b5db-4e968defa5a9",
   "metadata": {},
   "outputs": [],
   "source": [
    "testGainCorrection = powerVNoiseMedians/powerHNoiseMedians"
   ]
  },
  {
   "cell_type": "code",
   "execution_count": 27,
   "id": "d8fee76b-f3e0-4292-bc0e-4d2068dd0014",
   "metadata": {},
   "outputs": [
    {
     "name": "stdout",
     "output_type": "stream",
     "text": [
      "[0.097771   0.05745579 0.06394957 0.08120066 0.06068223 0.11035589\n",
      " 0.06460599 0.07275382]\n"
     ]
    },
    {
     "data": {
      "image/png": "[encoded data removed]",
      "text/plain": [
       "<Figure size 1296x648 with 8 Axes>"
      ]
     },
     "metadata": {
      "needs_background": "light"
     },
     "output_type": "display_data"
    }
   ],
   "source": [
    "testPowerHNoiseMedians = makeHistogramByChannelPair(hilbertFlattenedHPol*testGainCorrection, numBins=100, pol='h', titleLabel='test')"
   ]
  },
  {
   "cell_type": "code",
   "execution_count": 28,
   "id": "d2255c7a-20e8-498d-a903-882618cf0288",
   "metadata": {},
   "outputs": [
    {
     "name": "stdout",
     "output_type": "stream",
     "text": [
      "Gain balancing scales HPol correctly!\n"
     ]
    }
   ],
   "source": [
    "if (np.all(testPowerHNoiseMedians.astype(int) == powerVNoiseMedians.astype(int))):\n",
    "    print(\"Gain balancing scales HPol correctly!\")"
   ]
  },
  {
   "cell_type": "code",
   "execution_count": 29,
   "id": "15d0d84c-c3ff-4ec0-816c-6d7e89aa04ce",
   "metadata": {},
   "outputs": [
    {
     "name": "stdout",
     "output_type": "stream",
     "text": [
      "Output saved to /users/PAS0654/jflaherty13/source/AraSim/outputs/20230710_pulserSims_1000m/withNoise/deconvolution/noiseFromWaveforms/mediansOfForcedTriggerNoise.pkl\n"
     ]
    }
   ],
   "source": [
    "isExist = os.path.exists(outputFolder)\n",
    "if not isExist:\n",
    "  # Create a new directory because it does not exist \n",
    "  os.makedirs(outputFolder)\n",
    "\n",
    "original_df = pd.DataFrame({\"powerNoiseConstant\":powerNoiseMedians})\n",
    "original_df.to_pickle(outputFolder + \"/mediansOfForcedTriggerNoise.pkl\")\n",
    "\n",
    "print(\"Output saved to \" + outputFolder + \"/mediansOfForcedTriggerNoise.pkl\")"
   ]
  },
  {
   "cell_type": "code",
   "execution_count": null,
   "id": "5bbfb502-c210-44c0-a411-dae9cdbbd81a",
   "metadata": {},
   "outputs": [],
   "source": []
  },
  {
   "cell_type": "code",
   "execution_count": 30,
   "id": "c8eda634-698c-47ba-a534-4d7583baed78",
   "metadata": {},
   "outputs": [],
   "source": [
    "#name = os.path.join(srcFolder, str(filename))\n",
    "name = os.path.join(outputFolder+ \"/mediansOfForcedTriggerNoise.pkl\")\n",
    "data = pd.read_pickle(name)\n",
    "powerNoiseConstant = np.empty(16)\n",
    "for i,entry in zip(range(0,len(data)), data.itertuples()):\n",
    "    powerNoiseConstant[i] = entry.powerNoiseConstant"
   ]
  },
  {
   "cell_type": "code",
   "execution_count": 38,
   "id": "2fab3e99-5e10-4bb4-96eb-050295a68a57",
   "metadata": {},
   "outputs": [
    {
     "data": {
      "text/plain": [
       "array([0.097771  , 0.05745579, 0.06394957, 0.08120066, 0.06068223,\n",
       "       0.11035589, 0.06460599, 0.07275382, 0.05654482, 0.09287774,\n",
       "       0.0919257 , 0.08902603, 0.07838613, 0.12511595, 0.08134452,\n",
       "       0.03727756])"
      ]
     },
     "execution_count": 38,
     "metadata": {},
     "output_type": "execute_result"
    }
   ],
   "source": [
    "powerNoiseConstant"
   ]
  },
  {
   "cell_type": "code",
   "execution_count": null,
   "id": "e5e5aabb-195d-405b-8b8d-417daa31a8c7",
   "metadata": {},
   "outputs": [],
   "source": []
  },
  {
   "cell_type": "code",
   "execution_count": null,
   "id": "2b570a37-db52-427c-ab06-1ea9ad661e5e",
   "metadata": {},
   "outputs": [],
   "source": []
  },
  {
   "cell_type": "code",
   "execution_count": null,
   "id": "cd23ef1b-e662-4f7c-915c-37ee2a8a17cf",
   "metadata": {},
   "outputs": [],
   "source": []
  },
  {
   "cell_type": "code",
   "execution_count": null,
   "id": "2b963bbe-fbbe-4ad0-a045-a853b7342b7f",
   "metadata": {},
   "outputs": [],
   "source": []
  },
  {
   "cell_type": "code",
   "execution_count": null,
   "id": "d6abd81b-02d9-44ec-8f46-5be413d317d8",
   "metadata": {},
   "outputs": [],
   "source": []
  },
  {
   "cell_type": "code",
   "execution_count": null,
   "id": "e04adec0-56e8-4d13-a544-ebfb1f79f300",
   "metadata": {},
   "outputs": [],
   "source": [
    "def make2dHist(xArray, yArray, addMask=0, constrain = None, numBins=50, cmin=1, density=False, xLims=0, yLims=0, xLabel='', yLabel='', title='', fileLabel=''):   \n",
    "    constrainFolder=''\n",
    "    if (np.isscalar(addMask) == False):\n",
    "        xArray = xArray[addMask]\n",
    "        yArray = yArray[addMask]\n",
    "        # snrArray = snrArray[addMask]\n",
    "    if (constrain != None):\n",
    "        constrainFolder = 'constrain' + str(constrain) + '/'\n",
    "    sns.set(rc = {'figure.figsize':(12,12)},font_scale = 2)\n",
    "    plt.hist2d(xArray, yArray, bins=numBins, cmin=cmin, density=density, cmap='rainbow')\n",
    "    plt.colorbar()\n",
    "    #plt.hist(np.array(psi_reco)-np.array(psi_true), bins = 100)\n",
    "    plt.title(title)\n",
    "    plt.ylabel(yLabel)\n",
    "    plt.xlabel(xLabel)\n",
    "    if (xLims != 0):\n",
    "        plt.xlim(xLims)\n",
    "    if (yLims != 0):\n",
    "        plt.ylim(yLims)\n",
    "    # plt.savefig('./'+plotFolder+'/snrCutoff='+str(snrCutoff)+'/'+constrainFolder+fileLabel+'-snrCutoff='+str(snrCutoff)+'-SpiceCore.png')\n",
    "    "
   ]
  },
  {
   "cell_type": "code",
   "execution_count": null,
   "id": "a9f6e626-9880-464f-9024-d21509ec4c0d",
   "metadata": {},
   "outputs": [],
   "source": [
    "#Create function that does pairwise averaging before flattening\n",
    "def pairwiseAverage(array):\n",
    "    numEvents = array.shape[0]\n",
    "    averagedArray = np.zeros((numEvents,8))\n",
    "    for pair in range(8):\n",
    "        averagedArray[:,pair] = np.nanmean([array[:,pair],array[:,pair+8]], axis=0)\n",
    "    return averagedArray\n",
    "\n",
    "#Create functions that only grab VPol channels or HPol channels.\n",
    "def onlyVPol(array):\n",
    "    return array[:,:8]\n",
    "\n",
    "def onlyHPol(array):\n",
    "    return array[:,-8:]\n",
    "\n",
    "#Create function that takes a per-event quantity (like weight) and strech it our to the channel pairings.\n",
    "def stretchArray(array):\n",
    "    numEvents = len(array)\n",
    "    stretchedArray = np.zeros((numEvents,8))\n",
    "    for pair in range(8):\n",
    "        stretchedArray[:,pair] = array\n",
    "    return stretchedArray\n",
    "\n",
    "#Create function that generates array of channel pairings based on number of events\n",
    "def makeChannelPairingArray(numEvents):\n",
    "    channelPairingArray = np.zeros((numEvents,8))\n",
    "    for pair in range(8):\n",
    "        channelPairingArray[:,pair] = pair\n",
    "    return channelPairingArray"
   ]
  },
  {
   "cell_type": "code",
   "execution_count": null,
   "id": "af0461ae-4df7-4444-9ef9-9e7b85b876fa",
   "metadata": {},
   "outputs": [],
   "source": [
    "timeTemp = stretchArray(timeInRun).flatten()\n",
    "powerNoiseTemp = powerHNoise.flatten()\n",
    "make2dHist(timeTemp, powerNoiseTemp, addMask = (powerNoiseTemp<2e7)*(timeTemp<4000), title=\"Soft Trigger HPol Noise versus Time in Run\", xLabel=\"Time In Run [s]\", yLabel=\"PowerNoise\")"
   ]
  },
  {
   "cell_type": "code",
   "execution_count": null,
   "id": "ca69fa85-442e-4ab4-9ed3-5fadf08a994c",
   "metadata": {},
   "outputs": [],
   "source": [
    "make2dHist(timeTemp, powerNoiseTemp, addMask = (timeTemp<4000), title=\"Soft Trigger HPol Noise versus Time in Run\", xLabel=\"Time In Run [s]\", yLabel=\"PowerNoise\")"
   ]
  },
  {
   "cell_type": "code",
   "execution_count": null,
   "id": "c6c48484-bd5c-4448-aa9d-ef8576787566",
   "metadata": {},
   "outputs": [],
   "source": []
  },
  {
   "cell_type": "code",
   "execution_count": null,
   "id": "38c8e562-0bab-4f5b-8d0e-0b6036bfb521",
   "metadata": {},
   "outputs": [],
   "source": []
  },
  {
   "cell_type": "code",
   "execution_count": null,
   "id": "21b51386-d97f-4b73-b7e2-53a1e85d4848",
   "metadata": {},
   "outputs": [],
   "source": []
  },
  {
   "cell_type": "code",
   "execution_count": null,
   "id": "fd7401e4-ba4e-40b5-9e2f-8d7c73411f52",
   "metadata": {},
   "outputs": [],
   "source": []
  },
  {
   "cell_type": "code",
   "execution_count": null,
   "id": "2df502a3-451f-4d76-a6e8-49cdaf8cbdcd",
   "metadata": {},
   "outputs": [],
   "source": [
    "def make2dHistByChannel(xArray, yArray, constrain=None, pol='h', addMask=0, numBins=50, cmin=1, xLims=0, yLims=0, xLabel='', yLabel='', title='', fileLabel=''):\n",
    "    channelPairingTemp = channelPairing.flatten()\n",
    "    fig, ax = plt.subplots(nrows=2,ncols=4, figsize=(24,12),sharex=True, sharey=True)\n",
    "    constrainFolder=''\n",
    "    if (np.isscalar(addMask) == False):\n",
    "        xArray = xArray[addMask]\n",
    "        yArray = yArray[addMask]\n",
    "        channelPairingTemp = channelPairingTemp[addMask]\n",
    "    if (constrain != None):\n",
    "        constrainFolder = 'constrain' + str(constrain) + '/'\n",
    "    \n",
    "    ax = ax.ravel()\n",
    "    sns.set(rc = {'figure.figsize':(12,12)},font_scale = 2)\n",
    "    for pair in range(8):\n",
    "        ax[pair].hist2d(xArray[(channelPairingTemp==pair)], yArray[(channelPairingTemp==pair)], bins=numBins, cmin=cmin, cmap='rainbow')\n",
    "        if (pol == 'h'):\n",
    "            ax[pair].set_title(\"Channel \" + str(pair+8))\n",
    "        elif (pol == 'v'):\n",
    "            ax[pair].set_title(\"Channel \" + str(pair))\n",
    "        ax[pair].axhline(0,color='black',linestyle='--')\n",
    "        ax[pair].axvline(0,color='black',linestyle='--')\n",
    "    if (xLims != 0):\n",
    "        ax[0].set_xlim(xLims)\n",
    "    if (yLims != 0):\n",
    "        ax[0].set_ylim(yLims)\n",
    "    #fig.colorbar()\n",
    "    #plt.hist(np.array(psi_reco)-np.array(psi_true), bins = 100)\n",
    "    fig.suptitle(title)\n",
    "    fig.supylabel(yLabel)\n",
    "    fig.supxlabel(xLabel)\n",
    "\n",
    "    # plt.savefig('./'+plotFolder+'/snrCutoff='+str(snrCutoff)+'/'+constrainFolder+fileLabel+'-snrCutoff='+str(snrCutoff)+'-PerChannelPair-SpiceCore.png')\n",
    "    "
   ]
  },
  {
   "cell_type": "code",
   "execution_count": null,
   "id": "3c106a11-fb20-402d-aed4-ac8581e8870a",
   "metadata": {},
   "outputs": [],
   "source": [
    "\n",
    "make2dHistByChannel(timeTemp, powerNoiseTemp, addMask = (powerNoiseTemp<2e5)*(timeTemp<4000), title=\"Soft Trigger HPol Noise versus Time in Run\", xLabel=\"Time In Run [s]\", yLabel=\"PowerNoise\")"
   ]
  },
  {
   "cell_type": "code",
   "execution_count": null,
   "id": "2b22c228-bd24-4faa-840e-30d7d2d50b19",
   "metadata": {},
   "outputs": [],
   "source": []
  }
 ],
 "metadata": {
  "kernelspec": {
   "display_name": "Python 3 (ipykernel)",
   "language": "python",
   "name": "python3"
  },
  "language_info": {
   "codemirror_mode": {
    "name": "ipython",
    "version": 3
   },
   "file_extension": ".py",
   "mimetype": "text/x-python",
   "name": "python",
   "nbconvert_exporter": "python",
   "pygments_lexer": "ipython3",
   "version": "3.9.1"
  }
 },
 "nbformat": 4,
 "nbformat_minor": 5
}
