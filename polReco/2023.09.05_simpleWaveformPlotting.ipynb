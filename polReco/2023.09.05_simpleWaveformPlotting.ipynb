{
 "cells": [
  {
   "cell_type": "code",
   "execution_count": 1,
   "id": "9b3c5a75-6c3f-410a-a15d-7f84bde33b22",
   "metadata": {},
   "outputs": [
    {
     "name": "stderr",
     "output_type": "stream",
     "text": [
      "/cvmfs/ara.opensciencegrid.org/trunk/centos7/root_build/lib/cppyy/__init__.py:72: DeprecationWarning: invalid escape sequence \\d\n",
      "  if re.match('^libcppyy_backend\\d_\\d$', lib_name):\n"
     ]
    },
    {
     "name": "stdout",
     "output_type": "stream",
     "text": [
      "Welcome to JupyROOT 6.22/06\n"
     ]
    },
    {
     "name": "stderr",
     "output_type": "stream",
     "text": [
      "Warning in <TClassTable::Add>: class FFTtools::AnalyticSignal already in TClassTable\n",
      "Warning in <TClassTable::Add>: class FFTtools::CompositeSignal already in TClassTable\n",
      "Warning in <TClassTable::Add>: class FFTtools::BandlimitedSampledSignal already in TClassTable\n",
      "Warning in <TClassTable::Add>: class FFTtools::ThermalNoise already in TClassTable\n",
      "Warning in <TClassTable::Add>: class FFTtools::Averager already in TClassTable\n",
      "Warning in <TClassTable::Add>: class FFTtools::CWT already in TClassTable\n",
      "Warning in <TClassTable::Add>: class FFTtools::CWT::MotherWavelet already in TClassTable\n",
      "Warning in <TClassTable::Add>: class FFTtools::CWT::Ricker already in TClassTable\n",
      "Warning in <TClassTable::Add>: class FFTtools::CWT::Ridger already in TClassTable\n",
      "Warning in <TClassTable::Add>: class FFTtools::CWT::Morlet already in TClassTable\n",
      "Warning in <TClassTable::Add>: class FFTtools::DigitalFilter already in TClassTable\n",
      "Warning in <TClassTable::Add>: class FFTtools::DigitalFilterSeries already in TClassTable\n",
      "Warning in <TClassTable::Add>: class FFTtools::FIRFilter already in TClassTable\n",
      "Warning in <TClassTable::Add>: class FFTtools::SavitzkyGolayFilter already in TClassTable\n",
      "Warning in <TClassTable::Add>: class FFTtools::LanczosFilter already in TClassTable\n",
      "Warning in <TClassTable::Add>: class FFTtools::GaussianFilter already in TClassTable\n",
      "Warning in <TClassTable::Add>: class FFTtools::BoxFilter already in TClassTable\n",
      "Warning in <TClassTable::Add>: class FFTtools::DifferenceFilter already in TClassTable\n",
      "Warning in <TClassTable::Add>: class FFTtools::SincFilter already in TClassTable\n",
      "Warning in <TClassTable::Add>: class FFTtools::IIRFilter already in TClassTable\n",
      "Warning in <TClassTable::Add>: class FFTtools::TransformedZPKFilter already in TClassTable\n",
      "Warning in <TClassTable::Add>: class FFTtools::RCFilter already in TClassTable\n",
      "Warning in <TClassTable::Add>: class FFTtools::ButterworthFilter already in TClassTable\n",
      "Warning in <TClassTable::Add>: class FFTtools::ChebyshevIFilter already in TClassTable\n",
      "Warning in <TClassTable::Add>: class FFTtools::ThiranFilter already in TClassTable\n",
      "Warning in <TClassTable::Add>: class FFTWComplex already in TClassTable\n",
      "Warning in <TClassTable::Add>: class FFTtools::FFTWindowType already in TClassTable\n",
      "Warning in <TClassTable::Add>: class FFTtools::FFTWindow already in TClassTable\n",
      "Warning in <TClassTable::Add>: class FFTtools::RectangularWindow already in TClassTable\n",
      "Warning in <TClassTable::Add>: class FFTtools::TriangularWindow already in TClassTable\n",
      "Warning in <TClassTable::Add>: class FFTtools::HannWindow already in TClassTable\n",
      "Warning in <TClassTable::Add>: class FFTtools::HammingWindow already in TClassTable\n",
      "Warning in <TClassTable::Add>: class FFTtools::BlackmanWindow already in TClassTable\n",
      "Warning in <TClassTable::Add>: class FFTtools::BlackmanHarrisWindow already in TClassTable\n",
      "Warning in <TClassTable::Add>: class FFTtools::KaiserWindow already in TClassTable\n",
      "Warning in <TClassTable::Add>: class FFTtools::GaussianWindow already in TClassTable\n",
      "Warning in <TClassTable::Add>: class FFTtools::TukeyWindow already in TClassTable\n",
      "Warning in <TClassTable::Add>: class RFSignal already in TClassTable\n",
      "Warning in <TClassTable::Add>: class RFFilter already in TClassTable\n",
      "Warning in <TClassTable::Add>: class FFTtools::SineFitterLimits already in TClassTable\n",
      "Warning in <TClassTable::Add>: class FFTtools::SineFitter already in TClassTable\n",
      "Warning in <TClassTable::Add>: class FFTtools::SineSubtractResult already in TClassTable\n",
      "Warning in <TClassTable::Add>: class FFTtools::SineSubtract already in TClassTable\n"
     ]
    }
   ],
   "source": [
    "import numpy as np\n",
    "import matplotlib.pyplot as plt\n",
    "import matplotlib as mpl\n",
    "import pandas as pd\n",
    "import pyrex\n",
    "#import pyrex.custom.ara as ara\n",
    "from pyrex.internal_functions import normalize\n",
    "import os\n",
    "import sys\n",
    "import seaborn as sns\n",
    "import polReco_util as util\n",
    "import scipy\n",
    "\n",
    "import ROOT\n",
    "from ROOT import TCanvas, TGraph\n",
    "from ROOT import gROOT\n",
    "from ROOT import gInterpreter, gSystem\n",
    "from ROOT import TChain, TSelector, TTree\n",
    "from scipy.stats import norm\n",
    "from scipy.stats import rayleigh\n",
    "\n",
    "#add headers from AraSim. Not sure if all of them are needed, and I'm lazy to check that. MAK SURE to change the location of the headers\n",
    "# gInterpreter.ProcessLine('#include \"/cvmfs/ara.opensciencegrid.org/trunk/centos7/source/AraSim/Position.h\"')\n",
    "# gInterpreter.ProcessLine('#include \"/cvmfs/ara.opensciencegrid.org/trunk/centos7/source/AraSim/Report.h\"')\n",
    "# gInterpreter.ProcessLine('#include \"/cvmfs/ara.opensciencegrid.org/trunk/centos7/source/AraSim/Detector.h\"')\n",
    "# gInterpreter.ProcessLine('#include \"/cvmfs/ara.opensciencegrid.org/trunk/centos7/source/AraSim/Settings.h\"')\n",
    "# gInterpreter.ProcessLine('#include \"/cvmfs/ara.opensciencegrid.org/trunk/centos7/source/AraSim/EarthModel.h\"')\n",
    "# gInterpreter.ProcessLine('#include \"/cvmfs/ara.opensciencegrid.org/trunk/centos7/source/AraSim/Event.h\"')\n",
    "# gInterpreter.ProcessLine('#include \"/cvmfs/ara.opensciencegrid.org/trunk/centos7/source/AraSim/Spectra.h\"')\n",
    "# gInterpreter.ProcessLine('#include \"/cvmfs/ara.opensciencegrid.org/trunk/centos7/source/AraSim/Interaction.h\"')\n",
    "\n",
    "\n",
    "gInterpreter.ProcessLine('#include \"/cvmfs/ara.opensciencegrid.org/trunk/centos7/source/libRootFftwWrapper/include/FFTtools.h\"')\n",
    "\n",
    "\n",
    "# gSystem.Load('/cvmfs/ara.opensciencegrid.org/trunk/centos7/source/AraSim/libAra.so') #load the simulation event library. You might get an error asking for the eventSim dictionry. To solve that, go to where you compiled AraSim, find that file, and copy it to where you set LD_LIBRARY_PATH.\n",
    "# gSystem.Load('/cvmfs/ara.opensciencegrid.org/trunk/centos7/ara_build/lib/libAraEvent.so')\n",
    "gSystem.Load('/users/PAS0654/jflaherty13/source/AraRoot/AraRoot_build/lib/libAraEvent.so')\n",
    "gSystem.Load(\"/cvmfs/ara.opensciencegrid.org/trunk/centos7/source/libRootFftwWrapper/build/libRootFftwWrapper.so\")\n",
    "\n",
    "gInterpreter.ProcessLine('#include \"/users/PAS0654/jflaherty13/source/AraSim/Position.h\"')\n",
    "gInterpreter.ProcessLine('#include \"/users/PAS0654/jflaherty13/source/AraSim/Report.h\"')\n",
    "gInterpreter.ProcessLine('#include \"/users/PAS0654/jflaherty13/source/AraSim/Detector.h\"')\n",
    "gInterpreter.ProcessLine('#include \"/users/PAS0654/jflaherty13/source/AraSim/Settings.h\"')\n",
    "gInterpreter.ProcessLine('#include \"/users/PAS0654/jflaherty13/source/AraSim/IceModel.h\"')\n",
    "gInterpreter.ProcessLine('#include \"/users/PAS0654/jflaherty13/source/AraSim/EarthModel.h\"')\n",
    "gInterpreter.ProcessLine('#include \"/users/PAS0654/jflaherty13/source/AraSim/Event.h\"')\n",
    "gInterpreter.ProcessLine('#include \"/users/PAS0654/jflaherty13/source/AraSim/Spectra.h\"')\n",
    "# gInterpreter.ProcessLine('#include \"/users/PAS0654/jflaherty13/source/AraSim/Interaction.h\"')\n",
    "\n",
    "# sys.path.append(\"/cvmfs/ara.opensciencegrid.org/trunk/centos7/source/ARA_cvmfs/root_build/lib/\") # go to parent dir\n",
    "#sys.path.append(\"/users/PCON0003/cond0068/.local/lib/python3.7/site-packages/\")  #I don't have access to this directory in Jorge's account\n",
    "#sys.path.append(\"/users/PAS0654/jflaherty13/.local/lib/python3.9/site-packages/\")\n",
    "# sys.path.append(\"/users/PCON0003/cond0068/pyrex_sims/fromBen/thesis_work/pyrex-custom/analysis/custom/analysis/\")\n",
    "# import ROOT\n",
    "# import math\n",
    "# from ROOT import TH1D,TF1, gRandom, gPad, gStyle\n",
    "#import matplotlib as mpl\n",
    "#import matplotlib.pyplot as plt\n",
    "# from ROOT import TChain, TSelector, TTree\n",
    "#import itertools\n",
    "\n",
    "# mpl.use('agg') \n",
    "mpl.rcParams['text.usetex'] = True\n",
    "#mpl.rcParams['text.latex.preamble'] = [r'\\usepackage{amsmath}'] #for \\text command\n",
    "#mpl.rcParams['text.latex.unicode'] = True\n",
    "mpl.rcParams['mathtext.rm'] = 'Times New Roman'\n",
    "mpl.rcParams['mathtext.it'] = 'Times New Roman:italic'\n",
    "mpl.rcParams['mathtext.bf'] = 'Times New Roman:bold'\n",
    "\n",
    "mpl.rc('font', family='serif', size=12)\n",
    "mpl.rcParams['xtick.labelsize'] = 14\n",
    "mpl.rcParams['ytick.labelsize'] = 14\n",
    "mpl.rcParams['xtick.major.size'] = 5\n",
    "mpl.rcParams['ytick.major.size'] = 5\n",
    "\n",
    "mpl.rcParams['axes.titlesize'] = 18\n",
    "mpl.rcParams['axes.labelsize'] = 18\n",
    "mpl.rc('font', size=16)\n",
    "mpl.rc('axes', titlesize=20)\n",
    "\n",
    "# import mplcyberpunk\n",
    "# plt.style.use(\"cyberpunk\")\n",
    "\n",
    "#current_palette = sns.color_palette('colorblind', 10)\n",
    "current_palette = sns.color_palette('bright', 10)"
   ]
  },
  {
   "cell_type": "code",
   "execution_count": 2,
   "id": "278f8fac-0133-4660-931d-c57c66e848dc",
   "metadata": {},
   "outputs": [],
   "source": [
    "runNumber = 90\n",
    "# rawSrcFolder = \"/users/PAS0654/jflaherty13/source/AraSim/outputs/test/AraOut.setup_variablePsi=\"+str(runNumber)+\".txt.run\"+str(runNumber)+\".root\"\n",
    "rawSrcFolder = \"/users/PAS0654/jflaherty13/source/AraSim/outputs/20230710_pulserSims_1000m/withNoise/deconvolution_NFOUR=4096/deconvolvedWaveforms_run_0.root\"\n",
    "\n",
    "rawFilename = rawSrcFolder\n"
   ]
  },
  {
   "cell_type": "code",
   "execution_count": 3,
   "id": "10795c55-c601-434a-95d6-45db2c7462f8",
   "metadata": {},
   "outputs": [
    {
     "name": "stdout",
     "output_type": "stream",
     "text": [
      "runNumber = 90\n",
      "Sourcing raw data from /users/PAS0654/jflaherty13/source/AraSim/outputs/20230710_pulserSims_1000m/withNoise/deconvolution_NFOUR=4096/deconvolvedWaveforms_run_0.root\n"
     ]
    }
   ],
   "source": [
    "print(\"runNumber = \" + str(runNumber))\n",
    "print(\"Sourcing raw data from \" + str(rawSrcFolder))"
   ]
  },
  {
   "cell_type": "code",
   "execution_count": 4,
   "id": "b41b6f25-34bb-4c6d-b6da-e5c27537f0de",
   "metadata": {},
   "outputs": [
    {
     "ename": "TypeError",
     "evalue": "TTree::SetBranchAddress must be called with a valid branch name",
     "output_type": "error",
     "traceback": [
      "\u001b[0;31m---------------------------------------------------------------------------\u001b[0m",
      "\u001b[0;31mTypeError\u001b[0m                                 Traceback (most recent call last)",
      "Input \u001b[0;32mIn [4]\u001b[0m, in \u001b[0;36m<module>\u001b[0;34m\u001b[0m\n\u001b[1;32m     26\u001b[0m eventTree\u001b[38;5;241m.\u001b[39mSetBranchAddress(\u001b[38;5;124m\"\u001b[39m\u001b[38;5;124mUsefulAtriStationEvent\u001b[39m\u001b[38;5;124m\"\u001b[39m,ROOT\u001b[38;5;241m.\u001b[39mAddressOf(usefulEvent))\n\u001b[1;32m     27\u001b[0m eventTree\u001b[38;5;241m.\u001b[39mSetBranchAddress(\u001b[38;5;124m\"\u001b[39m\u001b[38;5;124mRawAtriStationEvent\u001b[39m\u001b[38;5;124m\"\u001b[39m,ROOT\u001b[38;5;241m.\u001b[39mAddressOf(rawEvent))\n\u001b[0;32m---> 28\u001b[0m \u001b[43msimTree\u001b[49m\u001b[38;5;241;43m.\u001b[39;49m\u001b[43mSetBranchAddress\u001b[49m\u001b[43m(\u001b[49m\u001b[38;5;124;43m\"\u001b[39;49m\u001b[38;5;124;43mreport\u001b[39;49m\u001b[38;5;124;43m\"\u001b[39;49m\u001b[43m,\u001b[49m\u001b[43mROOT\u001b[49m\u001b[38;5;241;43m.\u001b[39;49m\u001b[43mAddressOf\u001b[49m\u001b[43m(\u001b[49m\u001b[43mreportPtr\u001b[49m\u001b[43m)\u001b[49m\u001b[43m)\u001b[49m\n\u001b[1;32m     29\u001b[0m simTree\u001b[38;5;241m.\u001b[39mSetBranchAddress(\u001b[38;5;124m\"\u001b[39m\u001b[38;5;124mevent\u001b[39m\u001b[38;5;124m\"\u001b[39m, ROOT\u001b[38;5;241m.\u001b[39mAddressOf(eventPtr))\n\u001b[1;32m     30\u001b[0m simTree\u001b[38;5;241m.\u001b[39mSetBranchAddress(\u001b[38;5;124m\"\u001b[39m\u001b[38;5;124mNu_Interaction\u001b[39m\u001b[38;5;124m\"\u001b[39m, ROOT\u001b[38;5;241m.\u001b[39mAddressOf(interactionPtr))\n",
      "File \u001b[0;32m/cvmfs/ara.opensciencegrid.org/trunk/centos7/root_build/lib/ROOT/pythonization/_ttree.py:30\u001b[0m, in \u001b[0;36m_SetBranchAddress\u001b[0;34m(self, *args)\u001b[0m\n\u001b[1;32m     28\u001b[0m \u001b[38;5;28;01mdef\u001b[39;00m \u001b[38;5;21m_SetBranchAddress\u001b[39m(\u001b[38;5;28mself\u001b[39m, \u001b[38;5;241m*\u001b[39margs):\n\u001b[1;32m     29\u001b[0m     \u001b[38;5;66;03m# Modify the behaviour if args is (const char*, void*)\u001b[39;00m\n\u001b[0;32m---> 30\u001b[0m     res \u001b[38;5;241m=\u001b[39m \u001b[43mSetBranchAddressPyz\u001b[49m\u001b[43m(\u001b[49m\u001b[38;5;28;43mself\u001b[39;49m\u001b[43m,\u001b[49m\u001b[43m \u001b[49m\u001b[38;5;241;43m*\u001b[39;49m\u001b[43margs\u001b[49m\u001b[43m)\u001b[49m\n\u001b[1;32m     32\u001b[0m     \u001b[38;5;28;01mif\u001b[39;00m res \u001b[38;5;129;01mis\u001b[39;00m \u001b[38;5;28;01mNone\u001b[39;00m:\n\u001b[1;32m     33\u001b[0m         \u001b[38;5;66;03m# Fall back to the original implementation for the rest of overloads\u001b[39;00m\n\u001b[1;32m     34\u001b[0m         res \u001b[38;5;241m=\u001b[39m \u001b[38;5;28mself\u001b[39m\u001b[38;5;241m.\u001b[39m_OriginalSetBranchAddress(\u001b[38;5;241m*\u001b[39margs)\n",
      "\u001b[0;31mTypeError\u001b[0m: TTree::SetBranchAddress must be called with a valid branch name"
     ]
    },
    {
     "name": "stderr",
     "output_type": "stream",
     "text": [
      "Error in <TChain::LoadTree>: Cannot find tree with name AraTree2 in file /users/PAS0654/jflaherty13/source/AraSim/outputs/20230710_pulserSims_1000m/withNoise/deconvolution_NFOUR=4096/deconvolvedWaveforms_run_0.root\n"
     ]
    }
   ],
   "source": [
    "rawInputFile = ROOT.TFile.Open(rawFilename)\n",
    "\n",
    "# eventTree = rawInputFile.Get(\"eventTree\")\n",
    "# simTree = rawInputFile.Get(\"AraTree2\")\n",
    "\n",
    "file_list = []\n",
    "file_list.append(rawFilename)\n",
    "\n",
    "eventTree = TChain(\"eventTree\") #Define chain and tree that needs to be read. \"VTree\" in this case.\n",
    "simSettingsTree = TChain(\"AraTree\")\n",
    "simTree = TChain(\"AraTree2\")\n",
    "\n",
    "for line in file_list:\n",
    "    eventTree.AddFile(line)\n",
    "    simTree.AddFile(line)\n",
    "    simSettingsTree.AddFile(line)\n",
    "\n",
    "reportPtr = ROOT.Report()#report pointer\n",
    "eventPtr = ROOT.Event()\n",
    "detectorPtr = ROOT.Detector()\n",
    "interactionPtr = ROOT.Interaction()\n",
    "stationPtr = ROOT.ARA_station()\n",
    "\n",
    "usefulEvent = ROOT.UsefulAtriStationEvent()\n",
    "rawEvent = ROOT.RawAtriStationEvent()\n",
    "eventTree.SetBranchAddress(\"UsefulAtriStationEvent\",ROOT.AddressOf(usefulEvent))\n",
    "eventTree.SetBranchAddress(\"RawAtriStationEvent\",ROOT.AddressOf(rawEvent))\n",
    "simTree.SetBranchAddress(\"report\",ROOT.AddressOf(reportPtr))\n",
    "simTree.SetBranchAddress(\"event\", ROOT.AddressOf(eventPtr))\n",
    "simTree.SetBranchAddress(\"Nu_Interaction\", ROOT.AddressOf(interactionPtr))\n",
    "simSettingsTree.SetBranchAddress(\"detector\", ROOT.AddressOf(detectorPtr))\n",
    "simSettingsTree.SetBranchAddress(\"stations\", ROOT.AddressOf(stationPtr))\n",
    "simSettingsTree.GetEntry(0)\n",
    "\n",
    "totalRawEvents = eventTree.GetEntries()\n",
    "print('total raw events:', totalRawEvents) "
   ]
  },
  {
   "cell_type": "code",
   "execution_count": null,
   "id": "30fc5c8b-0934-4a74-8db8-ec6676c18440",
   "metadata": {},
   "outputs": [],
   "source": [
    "evt = 0\n",
    "eventTree.GetEntry(0)\n",
    "util.plotRawWaveform(usefulEvent)"
   ]
  },
  {
   "cell_type": "code",
   "execution_count": null,
   "id": "ef7df6f7-8fc8-4c18-b254-92662e4b4b38",
   "metadata": {},
   "outputs": [],
   "source": []
  }
 ],
 "metadata": {
  "kernelspec": {
   "display_name": "Python 3 (ipykernel)",
   "language": "python",
   "name": "python3"
  },
  "language_info": {
   "codemirror_mode": {
    "name": "ipython",
    "version": 3
   },
   "file_extension": ".py",
   "mimetype": "text/x-python",
   "name": "python",
   "nbconvert_exporter": "python",
   "pygments_lexer": "ipython3",
   "version": "3.9.1"
  }
 },
 "nbformat": 4,
 "nbformat_minor": 5
}
