{
 "cells": [
  {
   "cell_type": "code",
   "execution_count": 1,
   "id": "f3d66964-c03f-495c-ab28-48086d268f66",
   "metadata": {},
   "outputs": [
    {
     "name": "stderr",
     "output_type": "stream",
     "text": [
      "/cvmfs/ara.opensciencegrid.org/trunk/centos7/root_build/lib/cppyy/__init__.py:72: DeprecationWarning: invalid escape sequence \\d\n",
      "  if re.match('^libcppyy_backend\\d_\\d$', lib_name):\n"
     ]
    },
    {
     "name": "stdout",
     "output_type": "stream",
     "text": [
      "Welcome to JupyROOT 6.22/06\n"
     ]
    },
    {
     "name": "stderr",
     "output_type": "stream",
     "text": [
      "Warning in <TClassTable::Add>: class FFTtools::AnalyticSignal already in TClassTable\n",
      "Warning in <TClassTable::Add>: class FFTtools::CompositeSignal already in TClassTable\n",
      "Warning in <TClassTable::Add>: class FFTtools::BandlimitedSampledSignal already in TClassTable\n",
      "Warning in <TClassTable::Add>: class FFTtools::ThermalNoise already in TClassTable\n",
      "Warning in <TClassTable::Add>: class FFTtools::Averager already in TClassTable\n",
      "Warning in <TClassTable::Add>: class FFTtools::CWT already in TClassTable\n",
      "Warning in <TClassTable::Add>: class FFTtools::CWT::MotherWavelet already in TClassTable\n",
      "Warning in <TClassTable::Add>: class FFTtools::CWT::Ricker already in TClassTable\n",
      "Warning in <TClassTable::Add>: class FFTtools::CWT::Ridger already in TClassTable\n",
      "Warning in <TClassTable::Add>: class FFTtools::CWT::Morlet already in TClassTable\n",
      "Warning in <TClassTable::Add>: class FFTtools::DigitalFilter already in TClassTable\n",
      "Warning in <TClassTable::Add>: class FFTtools::DigitalFilterSeries already in TClassTable\n",
      "Warning in <TClassTable::Add>: class FFTtools::FIRFilter already in TClassTable\n",
      "Warning in <TClassTable::Add>: class FFTtools::SavitzkyGolayFilter already in TClassTable\n",
      "Warning in <TClassTable::Add>: class FFTtools::LanczosFilter already in TClassTable\n",
      "Warning in <TClassTable::Add>: class FFTtools::GaussianFilter already in TClassTable\n",
      "Warning in <TClassTable::Add>: class FFTtools::BoxFilter already in TClassTable\n",
      "Warning in <TClassTable::Add>: class FFTtools::DifferenceFilter already in TClassTable\n",
      "Warning in <TClassTable::Add>: class FFTtools::SincFilter already in TClassTable\n",
      "Warning in <TClassTable::Add>: class FFTtools::IIRFilter already in TClassTable\n",
      "Warning in <TClassTable::Add>: class FFTtools::TransformedZPKFilter already in TClassTable\n",
      "Warning in <TClassTable::Add>: class FFTtools::RCFilter already in TClassTable\n",
      "Warning in <TClassTable::Add>: class FFTtools::ButterworthFilter already in TClassTable\n",
      "Warning in <TClassTable::Add>: class FFTtools::ChebyshevIFilter already in TClassTable\n",
      "Warning in <TClassTable::Add>: class FFTtools::ThiranFilter already in TClassTable\n",
      "Warning in <TClassTable::Add>: class FFTWComplex already in TClassTable\n",
      "Warning in <TClassTable::Add>: class FFTtools::FFTWindowType already in TClassTable\n",
      "Warning in <TClassTable::Add>: class FFTtools::FFTWindow already in TClassTable\n",
      "Warning in <TClassTable::Add>: class FFTtools::RectangularWindow already in TClassTable\n",
      "Warning in <TClassTable::Add>: class FFTtools::TriangularWindow already in TClassTable\n",
      "Warning in <TClassTable::Add>: class FFTtools::HannWindow already in TClassTable\n",
      "Warning in <TClassTable::Add>: class FFTtools::HammingWindow already in TClassTable\n",
      "Warning in <TClassTable::Add>: class FFTtools::BlackmanWindow already in TClassTable\n",
      "Warning in <TClassTable::Add>: class FFTtools::BlackmanHarrisWindow already in TClassTable\n",
      "Warning in <TClassTable::Add>: class FFTtools::KaiserWindow already in TClassTable\n",
      "Warning in <TClassTable::Add>: class FFTtools::GaussianWindow already in TClassTable\n",
      "Warning in <TClassTable::Add>: class FFTtools::TukeyWindow already in TClassTable\n",
      "Warning in <TClassTable::Add>: class RFSignal already in TClassTable\n",
      "Warning in <TClassTable::Add>: class RFFilter already in TClassTable\n",
      "Warning in <TClassTable::Add>: class FFTtools::SineFitterLimits already in TClassTable\n",
      "Warning in <TClassTable::Add>: class FFTtools::SineFitter already in TClassTable\n",
      "Warning in <TClassTable::Add>: class FFTtools::SineSubtractResult already in TClassTable\n",
      "Warning in <TClassTable::Add>: class FFTtools::SineSubtract already in TClassTable\n"
     ]
    }
   ],
   "source": [
    "import numpy as np\n",
    "import matplotlib.pyplot as plt\n",
    "import matplotlib as mpl\n",
    "import pandas as pd\n",
    "import pyrex\n",
    "#import pyrex.custom.ara as ara\n",
    "from pyrex.internal_functions import normalize\n",
    "import os\n",
    "import sys\n",
    "import seaborn as sns\n",
    "import polReco_util as util\n",
    "import scipy\n",
    "\n",
    "import ROOT\n",
    "from ROOT import TCanvas, TGraph\n",
    "from ROOT import gROOT\n",
    "from ROOT import gInterpreter, gSystem\n",
    "from ROOT import TChain, TSelector, TTree\n",
    "from scipy.stats import norm\n",
    "from scipy.stats import rayleigh\n",
    "\n",
    "#add headers from AraSim. Not sure if all of them are needed, and I'm lazy to check that. MAK SURE to change the location of the headers\n",
    "# gInterpreter.ProcessLine('#include \"/cvmfs/ara.opensciencegrid.org/trunk/centos7/source/AraSim/Position.h\"')\n",
    "# gInterpreter.ProcessLine('#include \"/cvmfs/ara.opensciencegrid.org/trunk/centos7/source/AraSim/Report.h\"')\n",
    "# gInterpreter.ProcessLine('#include \"/cvmfs/ara.opensciencegrid.org/trunk/centos7/source/AraSim/Detector.h\"')\n",
    "# gInterpreter.ProcessLine('#include \"/cvmfs/ara.opensciencegrid.org/trunk/centos7/source/AraSim/Settings.h\"')\n",
    "# gInterpreter.ProcessLine('#include \"/cvmfs/ara.opensciencegrid.org/trunk/centos7/source/AraSim/EarthModel.h\"')\n",
    "# gInterpreter.ProcessLine('#include \"/cvmfs/ara.opensciencegrid.org/trunk/centos7/source/AraSim/Event.h\"')\n",
    "# gInterpreter.ProcessLine('#include \"/cvmfs/ara.opensciencegrid.org/trunk/centos7/source/AraSim/Spectra.h\"')\n",
    "# gInterpreter.ProcessLine('#include \"/cvmfs/ara.opensciencegrid.org/trunk/centos7/source/AraSim/Interaction.h\"')\n",
    "\n",
    "\n",
    "gInterpreter.ProcessLine('#include \"/cvmfs/ara.opensciencegrid.org/trunk/centos7/source/libRootFftwWrapper/include/FFTtools.h\"')\n",
    "\n",
    "\n",
    "# gSystem.Load('/cvmfs/ara.opensciencegrid.org/trunk/centos7/source/AraSim/libAra.so') #load the simulation event library. You might get an error asking for the eventSim dictionry. To solve that, go to where you compiled AraSim, find that file, and copy it to where you set LD_LIBRARY_PATH.\n",
    "# gSystem.Load('/cvmfs/ara.opensciencegrid.org/trunk/centos7/ara_build/lib/libAraEvent.so')\n",
    "gSystem.Load('/users/PAS0654/jflaherty13/source/AraRoot/AraRoot_build/lib/libAraEvent.so')\n",
    "gSystem.Load(\"/cvmfs/ara.opensciencegrid.org/trunk/centos7/source/libRootFftwWrapper/build/libRootFftwWrapper.so\")\n",
    "\n",
    "gInterpreter.ProcessLine('#include \"/users/PAS0654/jflaherty13/source/AraSim/Position.h\"')\n",
    "gInterpreter.ProcessLine('#include \"/users/PAS0654/jflaherty13/source/AraSim/Report.h\"')\n",
    "gInterpreter.ProcessLine('#include \"/users/PAS0654/jflaherty13/source/AraSim/Detector.h\"')\n",
    "gInterpreter.ProcessLine('#include \"/users/PAS0654/jflaherty13/source/AraSim/Settings.h\"')\n",
    "gInterpreter.ProcessLine('#include \"/users/PAS0654/jflaherty13/source/AraSim/IceModel.h\"')\n",
    "gInterpreter.ProcessLine('#include \"/users/PAS0654/jflaherty13/source/AraSim/EarthModel.h\"')\n",
    "gInterpreter.ProcessLine('#include \"/users/PAS0654/jflaherty13/source/AraSim/Event.h\"')\n",
    "gInterpreter.ProcessLine('#include \"/users/PAS0654/jflaherty13/source/AraSim/Spectra.h\"')\n",
    "# gInterpreter.ProcessLine('#include \"/users/PAS0654/jflaherty13/source/AraSim/Interaction.h\"')\n",
    "\n",
    "# sys.path.append(\"/cvmfs/ara.opensciencegrid.org/trunk/centos7/source/ARA_cvmfs/root_build/lib/\") # go to parent dir\n",
    "#sys.path.append(\"/users/PCON0003/cond0068/.local/lib/python3.7/site-packages/\")  #I don't have access to this directory in Jorge's account\n",
    "#sys.path.append(\"/users/PAS0654/jflaherty13/.local/lib/python3.9/site-packages/\")\n",
    "# sys.path.append(\"/users/PCON0003/cond0068/pyrex_sims/fromBen/thesis_work/pyrex-custom/analysis/custom/analysis/\")\n",
    "# import ROOT\n",
    "# import math\n",
    "# from ROOT import TH1D,TF1, gRandom, gPad, gStyle\n",
    "#import matplotlib as mpl\n",
    "#import matplotlib.pyplot as plt\n",
    "# from ROOT import TChain, TSelector, TTree\n",
    "#import itertools\n",
    "\n",
    "# mpl.use('agg') \n",
    "mpl.rcParams['text.usetex'] = True\n",
    "#mpl.rcParams['text.latex.preamble'] = [r'\\usepackage{amsmath}'] #for \\text command\n",
    "#mpl.rcParams['text.latex.unicode'] = True\n",
    "mpl.rcParams['mathtext.rm'] = 'Times New Roman'\n",
    "mpl.rcParams['mathtext.it'] = 'Times New Roman:italic'\n",
    "mpl.rcParams['mathtext.bf'] = 'Times New Roman:bold'\n",
    "\n",
    "mpl.rc('font', family='serif', size=12)\n",
    "mpl.rcParams['xtick.labelsize'] = 14\n",
    "mpl.rcParams['ytick.labelsize'] = 14\n",
    "mpl.rcParams['xtick.major.size'] = 5\n",
    "mpl.rcParams['ytick.major.size'] = 5\n",
    "\n",
    "mpl.rcParams['axes.titlesize'] = 18\n",
    "mpl.rcParams['axes.labelsize'] = 18\n",
    "mpl.rc('font', size=16)\n",
    "mpl.rc('axes', titlesize=20)\n",
    "\n",
    "# import mplcyberpunk\n",
    "# plt.style.use(\"cyberpunk\")\n",
    "\n",
    "#current_palette = sns.color_palette('colorblind', 10)\n",
    "current_palette = sns.color_palette('bright', 10)"
   ]
  },
  {
   "cell_type": "code",
   "execution_count": 2,
   "id": "17c4d875-bfcc-49cb-99dd-2642c13fee84",
   "metadata": {},
   "outputs": [],
   "source": [
    "stationID = 2 #2\n",
    "runNumber = 0 #12557\n",
    "subsetNumber = '' #102\n",
    "# recoSrcFolder = \"/users/PAS0654/jflaherty13/source/AraSim/outputs/updatedIdlPulseModelNoNoise/interferometry/recangle_reco_out_run_\"+str(runNumber)+\".root\"\n",
    "# rawSrcFolder = \"/users/PAS0654/jflaherty13/source/AraSim/outputs/updatedIdlPulseModelNoNoise/AraOut.setup_variablePsi.txt.run\"+str(runNumber)+\".root\"\n",
    "\n",
    "\n",
    "# recoSrcFolder = \"/users/PAS0654/jflaherty13/source/AraSim/outputs/updatedIdlPulseModelHpolGain/interferometry/recangle_reco_out_run_\"+str(runNumber)+\".root\"\n",
    "# rawSrcFolder = \"/users/PAS0654/jflaherty13/source/AraSim/outputs/updatedIdlPulseModelHpolGain/AraOut.setup_variablePsi.txt.run\"+str(runNumber)+\".root\"\n",
    "\n",
    "# recoSrcFolder = \"/users/PAS0654/jflaherty13/source/AraSim/outputs/updatedIdlPulseModelHpolGainNoNoise/interferometry/recangle_reco_out_run_\"+str(runNumber)+\".root\"\n",
    "# rawSrcFolder = \"/users/PAS0654/jflaherty13/source/AraSim/outputs/updatedIdlPulseModelHpolGainNoNoise/AraOut.setup_variablePsi=\"+str(runNumber)+\".txt.run\"+str(runNumber)+\".root\"\n",
    "\n",
    "# recoSrcFolder = \"/users/PAS0654/jflaherty13/source/AraSim/outputs/updatedIdlPulseModelHpolGain/interferometry/recangle_reco_out_run_\"+str(runNumber)+\".root\"\n",
    "# rawSrcFolder = \"/users/PAS0654/jflaherty13/source/AraSim/outputs/updatedIdlPulseModelHpolGainNoNoise/AraOut.setup_variablePsi=\"+str(runNumber)+\".txt.run\"+str(runNumber)+\".root\"\n",
    "# rawSrcFolder = \"/users/PAS0654/jflaherty13/source/AraSim/outputs/updatedIdlPulseModelHpolGainNoNoiseNoResponse/AraOut.setup_variablePsi=\"+str(runNumber)+\".txt.run\"+str(runNumber)+\".root\"\n",
    "# rawSrcFolder = \"/users/PAS0654/jflaherty13/source/AraSim/outputs/updatedIdlPulseModelHpolGainNoResponse/AraOut.setup_variablePsi=\"+str(runNumber)+\".txt.run\"+str(runNumber)+\".root\"\n",
    "# recoSrcFolder = \"/users/PAS0654/jflaherty13/source/AraSim/outputs/updatedIdlPulseModelHpolGainNoNoiseNoResponse/interferometry/recangle_reco_out_run_\"+str(runNumber)+\".root\"\n",
    "\n",
    "# rawSrcFolder = \"/users/PAS0654/jflaherty13/source/AraSim/outputs/test/AraOut.setup_variablePsi=\"+str(runNumber)+\".txt.run\"+str(runNumber)+\".root\"\n",
    "# recoSrcFolder = \"/users/PAS0654/jflaherty13/source/AraSim/outputs/test/interferometry/recangle_reco_out_run_\"+str(runNumber)+\".root\"\n",
    "\n",
    "rawSrcFolder = \"/users/PAS0654/jflaherty13/source/AraSim/outputs/20230710_pulserSims_1000m/withNoise/AraOut.setup_variablePsi=\"+str(runNumber)+\".txt.run\"+str(runNumber)+\".root\"\n",
    "recoSrcFolder = \"/users/PAS0654/jflaherty13/source/AraSim/outputs/20230710_pulserSims_1000m/interferometry/recangle_reco_out_run_\"+str(runNumber)+\".root\"\n",
    "deconvolvedFilename = \"/users/PAS0654/jflaherty13/source/AraSim/outputs/20230710_pulserSims_1000m/withNoise/deconvolution/deconvolvedWaveforms_run_\"+str(runNumber)+\".root\"\n",
    "\n",
    "# rawSrcFolder = \"/users/PAS0654/jflaherty13/source/AraSim/outputs/20230710_pulserSims_1000m/noNoise/AraOut.setup_variablePsi=\"+str(runNumber)+\".txt.run\"+str(runNumber)+\".root\"\n",
    "# recoSrcFolder = \"/users/PAS0654/jflaherty13/source/AraSim/outputs/20230710_pulserSims_1000m/interferometry/recangle_reco_out_run_\"+str(runNumber)+\".root\"\n",
    "# deconvolvedFilename = \"/users/PAS0654/jflaherty13/source/AraSim/outputs/20230710_pulserSims_1000m/noNoise/deconvolution/deconvolvedWaveforms_run_\"+str(runNumber)+\".root\"\n",
    "\n",
    "\n",
    "# outputFolder = \"newPolRecoV38/A\"+str(stationID)+\"/\"\n",
    "\n",
    "dataTypeFlag = 1\n",
    "signalTypeFlag = 0\n",
    "noiseTypeFlag = 0\n",
    "gainBalance = 0\n",
    "deconvolution = False\n",
    "\n",
    "rawFilename = rawSrcFolder\n",
    "recoFilename = recoSrcFolder"
   ]
  },
  {
   "cell_type": "code",
   "execution_count": 3,
   "id": "2d7cc861-9631-44a1-812a-ad25fa39ae34",
   "metadata": {},
   "outputs": [
    {
     "name": "stdout",
     "output_type": "stream",
     "text": [
      "runNumber = 0\n",
      "Sourcing vertex reconstruction from /users/PAS0654/jflaherty13/source/AraSim/outputs/20230710_pulserSims_1000m/interferometry/recangle_reco_out_run_0.root\n",
      "Sourcing raw data from /users/PAS0654/jflaherty13/source/AraSim/outputs/20230710_pulserSims_1000m/withNoise/AraOut.setup_variablePsi=0.txt.run0.root\n"
     ]
    }
   ],
   "source": [
    "print(\"runNumber = \" + str(runNumber))\n",
    "print(\"Sourcing vertex reconstruction from \" + str(recoSrcFolder))\n",
    "print(\"Sourcing raw data from \" + str(rawSrcFolder))"
   ]
  },
  {
   "cell_type": "code",
   "execution_count": 4,
   "id": "44404220-3c25-4546-a33d-f55da7e69607",
   "metadata": {},
   "outputs": [],
   "source": [
    "# recoFilename = \"/users/PAS0654/jflaherty13/source/AraSim/outputs/alisaIdlPulseModel/interferometry/recangle_reco_out_run_45.root\"\n",
    "recoInputFile = ROOT.TFile.Open(recoFilename)\n"
   ]
  },
  {
   "cell_type": "code",
   "execution_count": 5,
   "id": "30fc62d5-4b56-444d-a585-419e3290d456",
   "metadata": {},
   "outputs": [
    {
     "name": "stderr",
     "output_type": "stream",
     "text": [
      "Error in <TStreamerInfo::Build>: The class \"Detector\" is interpreted and for its data member \"rayleighFits_DeepStation_values\" we do not have a dictionary for the collection \"unordered_map<int,vector<vector<double> > >\". Because of this, we will not be able to read or write this data member.\n",
      "Error in <TStreamerInfo::Build>: The class \"Detector\" is interpreted and for its data member \"rayleighFits_DeepStation_frequencies\" we do not have a dictionary for the collection \"unordered_map<int,vector<double> >\". Because of this, we will not be able to read or write this data member.\n",
      "Warning in <TStreamerInfo::Build>: Detector: Parameters has no streamer or dictionary, data member \"params\" will not be saved\n"
     ]
    }
   ],
   "source": [
    "# rawFilename = \"/users/PAS0654/jflaherty13/source/AraSim/outputs/alisaIdlPulseModel/AraOut.setup_variablePsi.txt.run45.root\"\n",
    "rawInputFile = ROOT.TFile.Open(rawFilename)"
   ]
  },
  {
   "cell_type": "code",
   "execution_count": null,
   "id": "3dc1234e-c2c6-4dea-9ea6-dc4131b062e5",
   "metadata": {},
   "outputs": [],
   "source": [
    "if (dataTypeFlag == 0):\n",
    "    rawInputFile = ROOT.TFile.Open(rawFilename)\n",
    "    recoInputFile = ROOT.TFile.Open(recoFilename)\n",
    "\n",
    "    eventTree = rawInputFile.Get(\"eventTree\")\n",
    "    vertexReco = recoInputFile.Get(\"vertexReco\")\n",
    "\n",
    "    rawEvent = ROOT.RawAtriStationEvent()\n",
    "    eventTree.SetBranchAddress(\"event\",ROOT.AddressOf(rawEvent))\n",
    "\n",
    "    totalRawEvents = eventTree.GetEntries()\n",
    "    print('total raw events:', totalRawEvents)\n",
    "\n",
    "    totalRecoEvents = vertexReco.GetEntries()\n",
    "    print('total reco events:', totalRecoEvents)\n",
    "    \n",
    "elif (dataTypeFlag==1):\n",
    "    rawInputFile = ROOT.TFile.Open(rawFilename)\n",
    "    recoInputFile = ROOT.TFile.Open(recoFilename)\n",
    "    \n",
    "    # eventTree = rawInputFile.Get(\"eventTree\")\n",
    "    # simTree = rawInputFile.Get(\"AraTree2\")\n",
    "    \n",
    "    file_list = []\n",
    "    file_list.append(rawFilename)\n",
    "    \n",
    "    eventTree = TChain(\"eventTree\") #Define chain and tree that needs to be read. \"VTree\" in this case.\n",
    "    simSettingsTree = TChain(\"AraTree\")\n",
    "    simTree = TChain(\"AraTree2\")\n",
    "    vertexReco = recoInputFile.Get(\"vertexReco\")\n",
    "\n",
    "    for line in file_list:\n",
    "        eventTree.AddFile(line)\n",
    "        simTree.AddFile(line)\n",
    "        simSettingsTree.AddFile(line)\n",
    "        \n",
    "    reportPtr = ROOT.Report()#report pointer\n",
    "    eventPtr = ROOT.Event()\n",
    "    detectorPtr = ROOT.Detector()\n",
    "    interactionPtr = ROOT.Interaction()\n",
    "    stationPtr = ROOT.ARA_station()\n",
    "\n",
    "    usefulEvent = ROOT.UsefulAtriStationEvent()\n",
    "    rawEvent = ROOT.RawAtriStationEvent()\n",
    "    eventTree.SetBranchAddress(\"UsefulAtriStationEvent\",ROOT.AddressOf(usefulEvent))\n",
    "    eventTree.SetBranchAddress(\"RawAtriStationEvent\",ROOT.AddressOf(rawEvent))\n",
    "    simTree.SetBranchAddress(\"report\",ROOT.AddressOf(reportPtr))\n",
    "    simTree.SetBranchAddress(\"event\", ROOT.AddressOf(eventPtr))\n",
    "    simTree.SetBranchAddress(\"Nu_Interaction\", ROOT.AddressOf(interactionPtr))\n",
    "    simSettingsTree.SetBranchAddress(\"detector\", ROOT.AddressOf(detectorPtr))\n",
    "    simSettingsTree.SetBranchAddress(\"stations\", ROOT.AddressOf(stationPtr))\n",
    "    simSettingsTree.GetEntry(0)\n",
    "\n",
    "    totalRawEvents = eventTree.GetEntries()\n",
    "    print('total raw events:', totalRawEvents) \n",
    "    \n",
    "    totalRecoEvents = vertexReco.GetEntries()\n",
    "    print('total reco events:', totalRecoEvents)\n",
    "    \n",
    "if (totalRecoEvents != totalRawEvents):\n",
    "    print(\"ERROR: Raw event file and reconstructed event file have different number of events! Ensure that you are using compatible files!\")\n",
    "    sys.exit\n",
    "    "
   ]
  },
  {
   "cell_type": "code",
   "execution_count": null,
   "id": "9f1515bf-8f75-455b-802a-7ff33fd5597a",
   "metadata": {},
   "outputs": [],
   "source": [
    "evt=0\n",
    "vertexReco.GetEntry(evt)\n",
    "eventTree.GetEntry(evt)\n",
    "util.plotDeconvolvedWaveform(usefulEvent, vertexReco)"
   ]
  },
  {
   "cell_type": "code",
   "execution_count": null,
   "id": "50a1a677-cbbe-413e-8919-9e99dff50f0c",
   "metadata": {
    "tags": []
   },
   "outputs": [],
   "source": [
    "util.plotDeconvolvedWaveform(usefulEvent, vertexReco, deconvolution=False)"
   ]
  },
  {
   "cell_type": "code",
   "execution_count": null,
   "id": "499392b0-d6f9-4ff5-9b77-57fe621a16bc",
   "metadata": {},
   "outputs": [],
   "source": [
    "fig, axes = util.plotDeconvolvedWaveform(usefulEvent, vertexReco, deconvolution=False, channelPair=0, Hilbert=True)\n",
    "# axes[0].set_ylim([-400,400])\n",
    "# axes[1].set_ylim([-400,400])"
   ]
  },
  {
   "cell_type": "code",
   "execution_count": null,
   "id": "dcf130f6-3938-448b-b43a-4c375a1ce940",
   "metadata": {},
   "outputs": [],
   "source": [
    "#Making example plot for ICRC paper showing different polarization angles.\n",
    "primaryFont = 15\n",
    "secondaryFont = 15\n",
    "fig, axes = util.plotDeconvolvedWaveform(usefulEvent, vertexReco, deconvolution=False, channelPair=1)\n",
    "fig.set_size_inches(6,8)\n",
    "fig.suptitle(\"$\\Psi$ = \" + str(runNumber) + \"º\", fontsize=2*primaryFont)\n",
    "fig.supylabel(\"Amplitude [arb]\",fontsize = primaryFont, x=-0.05)\n",
    "fig.supxlabel(\"Time [ns]\",fontsize = primaryFont)\n",
    "axes[0].set_title(\"VPol Channel\", fontsize=secondaryFont)\n",
    "axes[1].set_title(\"HPol Channel\", fontsize=secondaryFont)\n",
    "\n",
    "vMin=-1000\n",
    "vMax=1000\n",
    "for ax in axes:\n",
    "    ax.set_ylim([vMin,vMax])"
   ]
  },
  {
   "cell_type": "code",
   "execution_count": null,
   "id": "6b522599-6596-4bf1-89dc-8c468655d11e",
   "metadata": {},
   "outputs": [],
   "source": [
    "#Making example plot for ICRC paper showing different polarization angles.\n",
    "primaryFont = 15\n",
    "secondaryFont = 15\n",
    "fig, axes = util.plotDeconvolvedWaveform(usefulEvent, vertexReco, deconvolution=False, channelPair=2)\n",
    "fig.set_size_inches(6,8)\n",
    "fig.suptitle(\"$\\Psi$ = \" + str(runNumber), fontsize=2*primaryFont)\n",
    "fig.supylabel(\"Amplitude [arb]\",fontsize = primaryFont)\n",
    "fig.supxlabel(\"Time [ns]\",fontsize = primaryFont)\n",
    "axes[0].set_title(\"VPol Channel\", fontsize=secondaryFont)\n",
    "axes[1].set_title(\"HPol Channel\", fontsize=secondaryFont)\n",
    "# for ax in axes:\n",
    "#     ax.set_xticks(fontsize=secondaryFont)\n",
    "#     ax.set_yticks(fontsize=secondaryFont)"
   ]
  },
  {
   "cell_type": "code",
   "execution_count": null,
   "id": "13772ec8-4e7b-4543-8f9a-19627a1c613b",
   "metadata": {},
   "outputs": [],
   "source": []
  },
  {
   "cell_type": "code",
   "execution_count": null,
   "id": "ae44ed2c-7c22-4ab0-956b-51d88db0ac00",
   "metadata": {},
   "outputs": [],
   "source": [
    "\n",
    "# fig, axes = util.plotDeconvolvedWaveform(usefulEvent, vertexReco, deconvolution=True, channelPair=2, Hilbert=True)\n",
    "# axes[0].set_ylim([-450000,450000])\n",
    "# axes[1].set_ylim([-450000,450000])"
   ]
  },
  {
   "cell_type": "code",
   "execution_count": null,
   "id": "d461d87c-6eb6-47bc-84ee-cdf5a41eb2d4",
   "metadata": {},
   "outputs": [],
   "source": [
    "\n",
    "# fig, axes = util.plotDeconvolvedWaveform(usefulEvent, vertexReco, deconvolution=True, channelPair=2, Hilbert=True, station=2, configuration=6)\n",
    "# axes[0].set_ylim([-450000,450000])\n",
    "# axes[1].set_ylim([-450000,450000])"
   ]
  },
  {
   "cell_type": "code",
   "execution_count": null,
   "id": "ffb9baa5-ae6c-4cf6-b37f-833f5a08aecf",
   "metadata": {},
   "outputs": [],
   "source": [
    "from pyrex.internal_functions import (normalize, complex_bilinear_interp, complex_interp)\n",
    "import pyrex.custom.envelope_reco as reco\n",
    "import pyrex.custom.ara as ara\n",
    "from pyrex.internal_functions import (normalize, complex_bilinear_interp,\n",
    "                                      complex_interp)\n",
    "import scipy.signal as signal"
   ]
  },
  {
   "cell_type": "code",
   "execution_count": null,
   "id": "7e047fdd-6e54-410d-aaaa-f1962448d429",
   "metadata": {},
   "outputs": [],
   "source": [
    "ch=0\n",
    "theta = np.array(vertexReco.reco_arrivalThetas_out)[ch]\n",
    "phi = np.array(vertexReco.reco_arrivalPhis_out)[ch]\n",
    "\n",
    "\n",
    "\n",
    "\n",
    "voltage, time = util.extractChannelWaveform(usefulEvent, ch)\n",
    "polarization=np.array([-np.sin(phi),np.cos(phi),-1/np.sin(theta)])\n",
    "ant = ara.VpolAntenna(name=\"Dummy Vpol\", position=(0, 0, 0), power_threshold=0)\n",
    "sampRate = len(time)/(max(time)-min(time))\n",
    "b,a = signal.bessel(4, [0.15,0.4], 'bandpass', analog=False, fs=sampRate)\n",
    "fft_v, fft_f, dT = util.doFFT(time,voltage)\n",
    "response_filter = np.array(ant.interpolate_filter(fft_f*1E6))\n",
    "dir_res = ant.antenna.directional_response(theta=theta, phi=phi, polarization=polarization)(fft_f*1E6)\n",
    "heff = ant.antenna.frequency_response(fft_f*1E6)\n",
    "response_antenna = dir_res*heff\n",
    "response = response_antenna\n",
    "deDis_wf = np.divide(fft_v,abs(response))\n",
    "response = np.divide(response,abs(response))\n",
    "deDis_wf = np.divide(deDis_wf,response)  #What is the purpose of this step?  The waveform seems to break without it. - JCF 6/19/2023\n",
    "deDis_wf = np.nan_to_num(deDis_wf)\n",
    "revert = util.doInvFFT(deDis_wf)\n",
    "deDis_wf = signal.lfilter(b, a, revert)"
   ]
  },
  {
   "cell_type": "code",
   "execution_count": null,
   "id": "798f49b7-a332-48b5-a1d1-b049ce3cb9ee",
   "metadata": {},
   "outputs": [],
   "source": [
    "ant = ara.VpolAntenna(name=\"Dummy Vpol\", position=(0, 0, 0), power_threshold=0, station=2, channel=0, configuration=6)"
   ]
  },
  {
   "cell_type": "code",
   "execution_count": null,
   "id": "e2c23cbd-2529-4eb2-b89f-1195c9ae69dd",
   "metadata": {},
   "outputs": [],
   "source": [
    "freq = np.array(range(0, 1000, 100))\n",
    "freq"
   ]
  },
  {
   "cell_type": "code",
   "execution_count": null,
   "id": "67d0702a-c365-4974-9427-9274193cfeab",
   "metadata": {},
   "outputs": [],
   "source": [
    "ROOT.Detector().GetGain_1D_OutZero(500,90,90,0,0)"
   ]
  },
  {
   "cell_type": "code",
   "execution_count": null,
   "id": "22f12c5c-358c-4d08-83db-7bcf3eb56af9",
   "metadata": {},
   "outputs": [],
   "source": [
    "ch=0\n",
    "theta = np.array(vertexReco.reco_arrivalThetas_out)[ch]\n",
    "phi = np.array(vertexReco.reco_arrivalPhis_out)[ch]\n",
    "\n",
    "\n",
    "\n",
    "voltage, time = util.extractChannelWaveform(usefulEvent, ch)\n",
    "polarization=np.array([-np.sin(phi),np.cos(phi),-1/np.sin(theta)])\n",
    "ant = ara.VpolAntenna(name=\"Dummy Vpol\", position=(0, 0, 0), power_threshold=0)\n",
    "sampRate = len(time)/(max(time)-min(time))\n",
    "b,a = signal.bessel(4, [0.15,0.4], 'bandpass', analog=False, fs=sampRate)\n",
    "fft_v, fft_f, dT = util.doFFT(time,voltage)\n",
    "response_filter = np.array(ant.interpolate_filter(fft_f*1E6))\n",
    "dir_res = ant.antenna.directional_response(theta=theta, phi=phi, polarization=polarization)(fft_f*1E6)\n",
    "heff = ant.antenna.frequency_response(fft_f*1E6)\n",
    "response_antenna = dir_res*heff\n",
    "response = response_antenna\n",
    "deDis_wf = np.divide(fft_v,abs(response))\n",
    "response = np.divide(response,abs(response))\n",
    "deDis_wf = np.divide(deDis_wf,response)  #What is the purpose of this step?  The waveform seems to break without it. - JCF 6/19/2023\n",
    "deDis_wf = np.nan_to_num(deDis_wf)\n",
    "revert = util.doInvFFT(deDis_wf)\n",
    "deDis_wf = signal.lfilter(b, a, revert)\n",
    "\n",
    "# gain = np.empty(fft_f.shape)\n",
    "# for i in range(5):\n",
    "#     gain[i] = ROOT.Detector().GetGain_1D_OutZero(fft_f[i],theta,phi,ch)"
   ]
  },
  {
   "cell_type": "code",
   "execution_count": null,
   "id": "c2359369-d195-4f81-9967-15db381a2ee5",
   "metadata": {},
   "outputs": [],
   "source": [
    "plt.plot(time,voltage)"
   ]
  },
  {
   "cell_type": "code",
   "execution_count": null,
   "id": "2a70a888-20bc-46a6-9aea-909be51cef63",
   "metadata": {},
   "outputs": [],
   "source": [
    "plt.plot(time,deDis_wf)"
   ]
  },
  {
   "cell_type": "code",
   "execution_count": null,
   "id": "4c3ccd20-5c98-435f-93a0-08c1414e952b",
   "metadata": {},
   "outputs": [],
   "source": [
    "theta"
   ]
  },
  {
   "cell_type": "code",
   "execution_count": null,
   "id": "c6d3a65d-488a-41ce-983b-f8842e8c5f88",
   "metadata": {},
   "outputs": [],
   "source": [
    "phi"
   ]
  },
  {
   "cell_type": "code",
   "execution_count": null,
   "id": "5c5b44a6-4092-49a4-bcd9-f3167b223f3d",
   "metadata": {},
   "outputs": [],
   "source": [
    "fft_f[0]"
   ]
  },
  {
   "cell_type": "code",
   "execution_count": null,
   "id": "8f2dc599-69a7-47d5-ab57-ef2a2be07111",
   "metadata": {},
   "outputs": [],
   "source": [
    "# ROOT.Detector().GetGain_1D_OutZero(0.0,90,90,0,0)"
   ]
  },
  {
   "cell_type": "code",
   "execution_count": null,
   "id": "4fe4cf3a-3551-4cdc-b76e-8edbae783e58",
   "metadata": {},
   "outputs": [],
   "source": [
    "# ROOT.Detector().GetGain_1D_OutZero(300,90,phi,0,ch)"
   ]
  },
  {
   "cell_type": "code",
   "execution_count": null,
   "id": "57990e20-73c6-4d26-903c-40546f023c24",
   "metadata": {},
   "outputs": [],
   "source": [
    "detectorPtr.GetGain_1D_OutZero(1000,90,0,0,ch)"
   ]
  },
  {
   "cell_type": "code",
   "execution_count": null,
   "id": "12cc6299-2d04-4293-971a-4dc116b152f2",
   "metadata": {},
   "outputs": [],
   "source": [
    "theta = 90\n",
    "phi = 0\n",
    "pol = 0\n",
    "ch = 0\n",
    "\n",
    "gain = np.empty(fft_f.shape)\n",
    "for i in range(len(gain)):\n",
    "    gain[i] = detectorPtr.GetGain_1D_OutZero(fft_f[i],90,0,0,ch)\n",
    "plt.plot(fft_f, gain)"
   ]
  },
  {
   "cell_type": "code",
   "execution_count": null,
   "id": "a0f2707b-ddc0-401d-b2e0-7273d57bbff1",
   "metadata": {},
   "outputs": [],
   "source": [
    "ch=0\n",
    "theta = np.degrees(np.array(vertexReco.reco_arrivalThetas_out)[ch])\n",
    "phi = np.degrees(np.array(vertexReco.reco_arrivalPhis_out)[ch])\n",
    "pol = 0\n",
    "\n",
    "gain = np.empty(fft_f.shape)\n",
    "for i in range(len(gain)):\n",
    "    gain[i] = detectorPtr.GetGain_1D_OutZero(fft_f[i],theta,phi,pol)\n",
    "plt.plot(fft_f, gain)\n",
    "plt.xlabel(\"Freq [MHz]\")\n",
    "plt.ylabel(\"Gain [dbi]\")"
   ]
  },
  {
   "cell_type": "code",
   "execution_count": null,
   "id": "a757e728-546a-4017-ac5a-40adc2fb33c9",
   "metadata": {},
   "outputs": [],
   "source": [
    "ch=0\n",
    "theta = np.degrees(np.array(vertexReco.reco_arrivalThetas_out)[ch])\n",
    "phi = np.degrees(np.array(vertexReco.reco_arrivalPhis_out)[ch])\n",
    "pol = 1\n",
    "\n",
    "gain = np.empty(fft_f.shape)\n",
    "for i in range(len(gain)):\n",
    "    gain[i] = detectorPtr.GetGain_1D_OutZero(fft_f[i],theta,phi,pol)\n",
    "plt.plot(fft_f, gain)\n",
    "plt.xlabel(\"Freq [MHz]\")\n",
    "plt.ylabel(\"Gain [dbi]\")"
   ]
  },
  {
   "cell_type": "code",
   "execution_count": null,
   "id": "3fd35b70-90bf-4eec-9ce3-4a65d8b5b812",
   "metadata": {},
   "outputs": [],
   "source": [
    "ch=0\n",
    "theta = np.degrees(np.array(vertexReco.reco_arrivalThetas_out)[ch])\n",
    "phi = np.degrees(np.array(vertexReco.reco_arrivalPhis_out)[ch])\n",
    "pol_ant=0\n",
    "\n",
    "\n",
    "# from pyrex.internal_functions import (normalize, complex_bilinear_interp, complex_interp)\n",
    "\n",
    "\n",
    "\n",
    "voltage, time = util.extractChannelWaveform(usefulEvent, ch)\n",
    "\n",
    "sampRate = len(time)/(max(time)-min(time))\n",
    "b,a = signal.bessel(4, [0.15,0.4], 'bandpass', analog=False, fs=sampRate)\n",
    "fft_v, fft_f, dT = util.doFFT(time,voltage)\n",
    "# ff, heffs, filter_gains = getResponseAraSim(theta,phi,fft_f,pol_ant)\n",
    "\n",
    "gains = np.empty(fft_f.shape)\n",
    "heffs = np.zeros(fft_f.shape,dtype=np.complex_)\n",
    "filter_gains = np.zeros(fft_f.shape,dtype=np.complex_)\n",
    "# phases = []"
   ]
  },
  {
   "cell_type": "code",
   "execution_count": null,
   "id": "00dfbacc-d7a4-4a7e-a66d-946ca2d5f470",
   "metadata": {},
   "outputs": [],
   "source": [
    "import timeit\n",
    "start = timeit.default_timer()\n",
    "for i in range(len(fft_f)):\n",
    "    # if (i % 10 == 0):\n",
    "    #     print(str(i) + '/' + str(len(fft_f)))\n",
    "    gain = detectorPtr.GetGain_1D_OutZero(fft_f[i], theta, phi, pol, 0)\n",
    "    heff = reportPtr.GaintoHeight(gain, fft_f[i]*1e6, 1.79)\n",
    "    filter_gain = detectorPtr.GetElectGain_1D_OutZero(fft_f[i], ch)\n",
    "    filter_phase = detectorPtr.GetElectPhase_1D(fft_f[i], ch)\n",
    "    if(np.isnan(heff)):\n",
    "        heff = 0\n",
    "    phase = detectorPtr.GetAntPhase_1D(fft_f[i], theta, phi, pol)\n",
    "    gains[i] = gain\n",
    "    heffs[i] = heff*complex(np.cos(np.radians(phase)),np.sin(np.radians(phase)))\n",
    "    filter_gains[i] = filter_gain*complex(np.cos(np.radians(filter_phase)),np.sin(np.radians(filter_phase)))\n",
    "    \n",
    "end = timeit.default_timer()\n",
    "elapsed = end - start\n",
    "print(elapsed)"
   ]
  },
  {
   "cell_type": "code",
   "execution_count": null,
   "id": "c806961b-65fb-48dd-b6b6-89c3710954c0",
   "metadata": {},
   "outputs": [],
   "source": [
    "#Jorge's method that doesn't divide out the filter_gains\n",
    "response = heffs\n",
    "deDis_wf = np.divide(fft_v,abs(response))\n",
    "response = np.divide(response,abs(response))\n",
    "deDis_wf = np.divide(deDis_wf,response)\n",
    "deDis_wf = np.nan_to_num(deDis_wf)\n",
    "revert = util.doInvFFT(deDis_wf)\n",
    "deDis_wf = signal.lfilter(b, a, revert)\n",
    "deDis_wf = revert"
   ]
  },
  {
   "cell_type": "code",
   "execution_count": null,
   "id": "56f0e0fc-41c1-4784-a308-65e631d98a69",
   "metadata": {},
   "outputs": [],
   "source": [
    "plt.plot(time,voltage)"
   ]
  },
  {
   "cell_type": "code",
   "execution_count": null,
   "id": "8b26073c-ca69-422f-9937-f7506d592815",
   "metadata": {},
   "outputs": [],
   "source": [
    "#Make example waveforms of IDL pulse before and after applying ant and elect factors in AraSim"
   ]
  },
  {
   "cell_type": "code",
   "execution_count": null,
   "id": "b8b4f493-84b3-4932-8e81-433409a8d8ae",
   "metadata": {},
   "outputs": [],
   "source": [
    "# plt.plot(time,voltage)\n",
    "# plt.xlim([110,150])\n",
    "# plt.axvline(110)"
   ]
  },
  {
   "cell_type": "code",
   "execution_count": null,
   "id": "6e6e8832-3bd2-4936-9be4-e460e831f6ce",
   "metadata": {},
   "outputs": [],
   "source": [
    "plt.plot(time,deDis_wf)"
   ]
  },
  {
   "cell_type": "code",
   "execution_count": null,
   "id": "d907466a-aedb-4412-a455-4f8025a30d7a",
   "metadata": {},
   "outputs": [],
   "source": [
    "#Jorge's method that doesn't divide out the filter_gains\n",
    "response = heffs#*filter_gains\n",
    "deDis_wf = np.divide(fft_v,abs(response))\n",
    "response = np.divide(response,abs(response))\n",
    "deDis_wf = np.divide(deDis_wf,response)\n",
    "deDis_wf = np.nan_to_num(deDis_wf)\n",
    "revert = util.doInvFFT(deDis_wf)\n",
    "# deDis_wf = signal.lfilter(b, a, revert)\n",
    "deDis_wf = revert\n",
    "\n",
    "plt.plot(time,deDis_wf)"
   ]
  },
  {
   "cell_type": "code",
   "execution_count": null,
   "id": "eae71bb3-9004-4921-9559-3f0562abdb4c",
   "metadata": {},
   "outputs": [],
   "source": [
    "#Testing my math of deconvolving everything but the pol factor response.\n",
    "response = (1/2)*heffs*filter_gains\n",
    "deDis_wf = np.divide(fft_v,abs(response))\n",
    "response = np.divide(response,abs(response))\n",
    "deDis_wf1 = np.divide(deDis_wf,response)\n",
    "deDis_wf2 = np.nan_to_num(deDis_wf1)\n",
    "revert = util.doInvFFT(deDis_wf2)\n",
    "deDis_wf3 = revert\n",
    "# deDis_wf3 = signal.lfilter(b, a, revert)\n",
    "\n",
    "plt.plot(time,deDis_wf3)"
   ]
  },
  {
   "cell_type": "code",
   "execution_count": null,
   "id": "a1db3923-be66-452f-be3e-705a3934c343",
   "metadata": {},
   "outputs": [],
   "source": [
    "#Another test of my math\n",
    "ch=0\n",
    "# theta = np.degrees(np.array(vertexReco.reco_arrivalThetas_out)[ch])\n",
    "# phi = np.degrees(np.array(vertexReco.reco_arrivalPhis_out)[ch])\n",
    "\n",
    "theta = np.degrees(np.array(vertexReco.true_arrivalThetas_out)[ch])\n",
    "phi = np.degrees(np.array(vertexReco.true_arrivalPhis_out)[ch])\n",
    "\n",
    "\n",
    "pol_ant=0\n",
    "voltage, time = util.extractChannelWaveform(usefulEvent, ch)\n",
    "\n",
    "sampRate = len(time)/(max(time)-min(time))\n",
    "b,a = signal.bessel(4, [0.15,0.4], 'bandpass', analog=False, fs=sampRate)\n",
    "fft_v, fft_f, dT = util.doFFT(time,voltage)\n",
    "\n",
    "gains = np.empty(fft_f.shape)\n",
    "heffs = np.zeros(fft_f.shape)\n",
    "electGains = np.zeros(fft_f.shape)\n",
    "phaseTerms = np.zeros(fft_f.shape,dtype=np.complex_)\n",
    "antPhases = np.zeros(fft_f.shape,dtype=np.complex_)\n",
    "electPhases = np.zeros(fft_f.shape,dtype=np.complex_)\n",
    "initialPhases = np.zeros(fft_f.shape)\n",
    "finalPhases = np.zeros(fft_f.shape)\n",
    "\n",
    "for i in range(len(fft_f)):\n",
    "    if (i % 100 == 0):\n",
    "        print(str(i) + '/' + str(len(fft_f)))\n",
    "    # vReal = np.real(fft_v[i])\n",
    "    # vImag = np.imag(fft_v[i])\n",
    "    # # initialPhase = np.arctan2(vImag,vReal) #Adding in the initial phase seems to shift the waveform in time.\n",
    "    # if (vReal != 0):\n",
    "    #     initialPhase = np.arctan(vImag/vReal)  \n",
    "    #     if (vReal < 0):\n",
    "    #         if (vImag > 0):\n",
    "    #             initialPhase += np.pi\n",
    "    #         elif (vImag < 0):\n",
    "    #             initialPhase -= np.pi\n",
    "    # else:\n",
    "    #     if (vImag > 0):\n",
    "    #         initialPhase = np.pi\n",
    "    #     elif (vImag < 0):\n",
    "    #         initialPhase = -np.pi\n",
    "    #     else:\n",
    "    #         initialPhase = 0\n",
    "    gain = detectorPtr.GetGain_1D_OutZero(fft_f[i], theta, phi, pol, 0)\n",
    "    heff = reportPtr.GaintoHeight(gain, fft_f[i], 1.79)\n",
    "    antPhase = np.radians(detectorPtr.GetAntPhase_1D(fft_f[i], theta, phi, pol))\n",
    "    electGain = detectorPtr.GetElectGain_1D_OutZero(fft_f[i], ch)\n",
    "    electPhase = np.radians(detectorPtr.GetElectPhase_1D(fft_f[i], ch))\n",
    "    # finalPhase = initialPhase + antPhase - electPhase  #Should not be subtracting out initial phase, just the phase shift.\n",
    "    finalPhase = antPhase - electPhase  #Should not be subtracting out initial phase, just the phase shift.\n",
    "    if(np.isnan(heff)):\n",
    "        heff = 0\n",
    "    gains[i] = gain\n",
    "    heffs[i] = heff\n",
    "    electGains[i] = electGain\n",
    "    antPhases[i] = complex(np.cos(antPhase),np.sin(antPhase))\n",
    "    electPhases[i] = complex(np.cos(electPhase),np.sin(electPhase))\n",
    "    # initialPhases[i] = initialPhase\n",
    "    finalPhases[i] = finalPhase\n",
    "    # phaseTerms[i] = complex(np.cos(finalPhase),np.sin(finalPhase))\n",
    "\n",
    "dir_res = ant.antenna.directional_response(theta=np.radians(theta), phi=np.radians(phi), polarization=polarization)(fft_f*1E6)\n",
    "heffs = ant.antenna.frequency_response(fft_f*1E6)\n",
    "\n",
    "# response = (1/2)*heffs*antPhases*electGains*electPhases\n",
    "response = heffs*dir_res#*electGains*electPhases\n",
    "# response = electGains*electPhases\n",
    "# response = heffs*antPhases\n",
    "deDis_wf = np.divide(fft_v,response)\n",
    "response1 = np.divide(response,abs(response))\n",
    "deDis_wf1 = np.divide(deDis_wf,response1)\n",
    "deDis_wf2 = np.nan_to_num(deDis_wf1)\n",
    "revert = util.doInvFFT(deDis_wf2)\n",
    "deDis_wf3 = revert\n",
    "deDis_wf4 = signal.lfilter(b, a, revert)\n",
    "\n",
    "plt.plot(time,deDis_wf3)\n",
    "# plt.plot(time,util.doInvFFT(np.nan_to_num(deDis_wf)))"
   ]
  },
  {
   "cell_type": "code",
   "execution_count": null,
   "id": "46951fd6-867a-4fd9-bfd8-5b3f7a1a173a",
   "metadata": {},
   "outputs": [],
   "source": [
    "#Load IDL waveform that AraSim is sourcing\n",
    "filepath = \"/users/PAS0654/jflaherty13/source/AraSim/IDL1_waveformNoiseless.txt\"\n",
    "data = np.loadtxt(filepath, delimiter=' ')\n",
    "plt.plot(data[:,0], data[:,1])\n",
    "print(data.shape)"
   ]
  },
  {
   "cell_type": "code",
   "execution_count": null,
   "id": "cb0e785b-1dac-4321-8151-66fd35ffda42",
   "metadata": {},
   "outputs": [],
   "source": [
    "filepath = \"/users/PAS0654/jflaherty13/source/AraSim/IDL1_waveformNoiseless.txt\"\n",
    "data = np.loadtxt(filepath, delimiter=' ')\n",
    "plt.plot(data[:,0], data[:,1])\n",
    "plt.show()\n",
    "fft, freq, dT = util.doFFT(data[:,0], data[:,1])\n",
    "psd = np.abs(fft**2)\n",
    "plt.plot(freq,psd)\n",
    "plt.show()"
   ]
  },
  {
   "cell_type": "code",
   "execution_count": null,
   "id": "c45ca19e-1d7e-4954-8df7-f2d78242b2d1",
   "metadata": {},
   "outputs": [],
   "source": [
    "#Load IDL waveform that AraSim is sourcing\n",
    "filepath = \"/users/PAS0654/jflaherty13/source/AraSim/IDL1_waveform.txt\"\n",
    "data = np.loadtxt(filepath, delimiter=' ')\n",
    "plt.plot(data[:,0], data[:,1])\n",
    "print(data.shape)"
   ]
  },
  {
   "cell_type": "code",
   "execution_count": null,
   "id": "95974454-4f48-4423-9520-0db67761983d",
   "metadata": {},
   "outputs": [],
   "source": [
    "filepath = \"/users/PAS0654/jflaherty13/source/AraSim/arbitrary_waveform.txt\"\n",
    "data = np.loadtxt(filepath, delimiter=' ')\n",
    "plt.plot(data[:,0], data[:,1])\n",
    "# plt.xlim([-1,10])\n",
    "print(data.shape)"
   ]
  },
  {
   "cell_type": "code",
   "execution_count": null,
   "id": "8cdd6315-47fa-45df-8e87-222cd55af078",
   "metadata": {},
   "outputs": [],
   "source": [
    "#Interpolate the IDL waveform data to 0.25 ns between data points.\n",
    "filepath = \"/users/PAS0654/jflaherty13/source/AraSim/IDL1_waveformNoiseless.txt\"\n",
    "data = np.loadtxt(filepath, delimiter=' ')\n",
    "plt.plot(data[:,0], data[:,1])\n",
    "print(data.shape)\n",
    "\n",
    "deltaT = 0.25 #ns\n",
    "tMin = data[:,0].min()\n",
    "tMax = data[:,0].max()\n",
    "\n",
    "interpTmin = -50\n",
    "tShift = data[0,0] - interpTmin\n",
    "numDatapoints = 640\n",
    "interpTmax = interpTmin + numDatapoints*deltaT\n",
    "\n",
    "interpT = np.array(np.arange(interpTmin,interpTmax,deltaT))\n",
    "interpV = np.interp(interpT, data[:,0]-tShift, data[:,1])\n",
    "plt.plot(interpT,interpV)\n",
    "\n",
    "interpData = np.empty((len(interpT),2))\n",
    "interpData[:,0] = interpT\n",
    "interpData[:,1] = interpV#*(1000*30)\n",
    "\n",
    "plt.plot(interpData[:,0], interpData[:,1])\n",
    "# np.savetxt(\"/users/PAS0654/jflaherty13/source/AraSim/IDL1_waveformNoiseless.txt\", interpData)"
   ]
  },
  {
   "cell_type": "code",
   "execution_count": null,
   "id": "c210d612-ffdb-475f-9f13-8c453f9e521d",
   "metadata": {},
   "outputs": [],
   "source": [
    "# #Want to check vertex reco thetas\n",
    "# ch=0\n",
    "# thetas = np.empty(vertexReco.GetEntries())\n",
    "# for evt in range(len(thetas)):\n",
    "#     vertexReco.GetEntry(evt)\n",
    "#     thetas[evt] = np.degrees(np.array(vertexReco.reco_arrivalThetas_out)[ch])\n",
    "    \n",
    "# plt.plot(thetas)"
   ]
  },
  {
   "cell_type": "code",
   "execution_count": null,
   "id": "7d768079-f969-4337-9f8d-fdbce215aa68",
   "metadata": {},
   "outputs": [],
   "source": [
    "# ch=0\n",
    "# phis = np.empty(vertexReco.GetEntries())\n",
    "# for evt in range(len(thetas)):\n",
    "#     vertexReco.GetEntry(evt)\n",
    "#     phis[evt] = np.degrees(np.array(vertexReco.reco_arrivalPhis_out)[ch])\n",
    "    \n",
    "# plt.plot(phis)"
   ]
  },
  {
   "cell_type": "code",
   "execution_count": null,
   "id": "c3edc5c6-9354-4707-ab04-128804c8329d",
   "metadata": {},
   "outputs": [],
   "source": []
  },
  {
   "cell_type": "code",
   "execution_count": null,
   "id": "703c0631-22f3-48a9-8b6e-8493e56dedf4",
   "metadata": {},
   "outputs": [],
   "source": [
    "# ROOT.Detector(stationId=2)"
   ]
  },
  {
   "cell_type": "code",
   "execution_count": null,
   "id": "40af554f-d177-4b53-8c39-403d73946c02",
   "metadata": {},
   "outputs": [],
   "source": [
    "# freq = fft_f\n",
    "\n",
    "# simSettingsTree = TChain(\"AraTree\")\n",
    "# simTree = TChain(\"AraTree2\")\n",
    "\n",
    "# for line in file_list:\n",
    "#     simTree.AddFile(line)\n",
    "#     simSettingsTree.AddFile(line)\n",
    "\n",
    "# reportPtr = ROOT.Report()\n",
    "# detectorPtr = ROOT.Detector()\n",
    "\n",
    "# simTree.SetBranchAddress(\"report\", ROOT.AddressOf(reportPtr))\n",
    "# simSettingsTree.SetBranchAddress(\"detector\", ROOT.AddressOf(detectorPtr))\n",
    "# numEvents = simTree.GetEntries()\n",
    "\n",
    "\n",
    "# simTree.GetEntry(0)\n",
    "# simSettingsTree.GetEntry(0)\n",
    "\n",
    "# theta = np.degrees(theta)\n",
    "# phi = np.degrees(phi)\n",
    "# freq = freq*1E6\n",
    "\n",
    "# # dt = 0.3125e-9 # seconds\n",
    "# # ff = np.fft.rfftfreq(int(1280/2), dt)\n",
    "# gains = []\n",
    "# heffs = []\n",
    "# filter_gains = []\n",
    "# # phases = []"
   ]
  },
  {
   "cell_type": "code",
   "execution_count": null,
   "id": "d93e81fa-c0fd-45f1-a468-5a2467917c2f",
   "metadata": {},
   "outputs": [],
   "source": [
    "# for f in freq:\n",
    "#     gain = detectorPtr.GetGain_1D_OutZero(f/1e6, theta, phi, pol, 0)\n",
    "#     heff = reportPtr.GaintoHeight(gain, f, 1.79)\n",
    "#     filter_gain = detectorPtr.GetElectGain_1D_OutZero(f/1e6)\n",
    "#     filter_phase = detectorPtr.GetElectPhase_1D(f/1e6)\n",
    "#     if(np.isnan(heff)):\n",
    "#         heff = 0\n",
    "#     phase = detectorPtr.GetAntPhase_1D(f/1e6, theta, phi, pol)\n",
    "#     gains.append(gain)\n",
    "#     heffs.append(heff*complex(np.cos(np.radians(phase)),np.sin(np.radians(phase))))\n",
    "#     filter_gains.append(filter_gain*complex(np.cos(np.radians(filter_phase)),np.sin(np.radians(filter_phase))))"
   ]
  },
  {
   "cell_type": "code",
   "execution_count": null,
   "id": "9c578507-742a-4f4f-a0d2-9022ea66fa16",
   "metadata": {
    "tags": []
   },
   "outputs": [],
   "source": [
    "# simTree.GetEntry(0)\n",
    "f=400*1e6\n",
    "pol=0\n",
    "ch=0\n",
    "theta = np.degrees(np.array(vertexReco.reco_arrivalThetas_out)[ch])\n",
    "phi = np.degrees(np.array(vertexReco.reco_arrivalPhis_out)[ch])\n",
    "gain = detectorPtr.GetGain_1D_OutZero(f/1e6, theta, phi, pol, 0)\n",
    "heff = reportPtr.GaintoHeight(gain, f, 1.79)\n",
    "# filter_gain = detectorPtr.GetElectGain_1D_OutZero(f/1e6)\n",
    "# filter_phase = detectorPtr.GetElectPhase_1D(f/1e6)\n",
    "\n",
    "print(gain)\n",
    "print(heff)\n",
    "# print(filter_gain)\n",
    "# print(filter_phase)"
   ]
  },
  {
   "cell_type": "code",
   "execution_count": null,
   "id": "9b590d68-6dd2-4f77-ad7a-2c6cc23d260d",
   "metadata": {},
   "outputs": [],
   "source": [
    "f = np.array(range(100,400,10))*1e6\n",
    "pol=0\n",
    "ch=0\n",
    "theta = np.degrees(np.array(vertexReco.reco_arrivalThetas_out)[ch])\n",
    "phi = np.degrees(np.array(vertexReco.reco_arrivalPhis_out)[ch])\n",
    "gain = np.empty(f.shape)\n",
    "for i in range(len(gain)):\n",
    "    print(detectorPtr.GetGain_1D_OutZero(f[i]/1e6, theta, phi, pol, 0))"
   ]
  },
  {
   "cell_type": "code",
   "execution_count": null,
   "id": "0c3ba8c5-b2df-4932-a143-295327c405cd",
   "metadata": {},
   "outputs": [],
   "source": [
    "print(detectorPtr.GetGain_1D(f[0]/1e6, theta, phi, 5))"
   ]
  },
  {
   "cell_type": "code",
   "execution_count": null,
   "id": "dd11dd16-02b8-4439-881a-fce6f16f30c5",
   "metadata": {},
   "outputs": [],
   "source": [
    "print(detectorPtr.GetGain_1D_OutZero(f[1]/1e6, theta, phi, pol, 0))"
   ]
  },
  {
   "cell_type": "code",
   "execution_count": null,
   "id": "535e1bbe-f1c6-416f-b8ac-13f6e20f46f2",
   "metadata": {},
   "outputs": [],
   "source": [
    "print(detectorPtr.GetGain_1D_OutZero(f[2]/1e6, theta, phi, pol, 5))"
   ]
  },
  {
   "cell_type": "code",
   "execution_count": null,
   "id": "2ba2e787-8ed6-4f96-a8de-5e7a5ed3dbee",
   "metadata": {},
   "outputs": [],
   "source": [
    "detectorPtr.GetAntPhase_1D(150,90,0,0)"
   ]
  },
  {
   "cell_type": "code",
   "execution_count": null,
   "id": "650f04de-b0f0-4c85-92db-d930543c3167",
   "metadata": {},
   "outputs": [],
   "source": [
    "detectorPtr.GetAntPhase_1D(100,90,0,0)"
   ]
  },
  {
   "cell_type": "code",
   "execution_count": null,
   "id": "89d4eea9-a3fe-44f5-bcb0-65c356a7a16c",
   "metadata": {},
   "outputs": [],
   "source": [
    "np.array(detectorPtr.freq_forfft)"
   ]
  },
  {
   "cell_type": "code",
   "execution_count": null,
   "id": "14c79ad1-6e71-4c2a-b4be-156188eca7dd",
   "metadata": {},
   "outputs": [],
   "source": [
    "# gain"
   ]
  },
  {
   "cell_type": "code",
   "execution_count": null,
   "id": "93db3379-b16a-4658-afa7-aadc045db123",
   "metadata": {},
   "outputs": [],
   "source": [
    "rawFilename"
   ]
  },
  {
   "cell_type": "code",
   "execution_count": null,
   "id": "00198438-dc98-472b-8ae4-11a59848ef22",
   "metadata": {},
   "outputs": [],
   "source": [
    "#Test importing deconvolvedWaveform file\n",
    "\n",
    "# deconvolvedFilename = \"/users/PAS0654/jflaherty13/source/AraSim/outputs/test/deconvolution/deconvolvedWaveforms_run_45.root\"\n",
    "# deconvolvedFilename = \"/users/PAS0654/jflaherty13/source/AraSim/outputs/20230710_pulserSims_1000m/deconvolution/deconvolvedWaveforms_run_\"+str(runNumber)+\".root\"\n",
    "\n",
    "deconvolvedFile = ROOT.TFile.Open(deconvolvedFilename)\n",
    "\n",
    "# eventTree = rawInputFile.Get(\"eventTree\")\n",
    "# simTree = rawInputFile.Get(\"AraTree2\")\n",
    "\n",
    "file_list = []\n",
    "file_list.append(deconvolvedFilename)\n",
    "\n",
    "eventTree2 = TChain(\"eventTree\") #Define chain and tree that needs to be read. \"VTree\" in this case.\n",
    "# simSettingsTree = TChain(\"AraTree\")\n",
    "# simTree = TChain(\"AraTree2\")\n",
    "# vertexReco = recoInputFile.Get(\"vertexReco\")\n",
    "\n",
    "for line in file_list:\n",
    "    eventTree2.AddFile(line)\n",
    "    # simTree.AddFile(line)\n",
    "    # simSettingsTree.AddFile(line)\n",
    "\n",
    "# reportPtr = ROOT.Report()#report pointer\n",
    "eventPtr2 = ROOT.Event()\n",
    "# detectorPtr = ROOT.Detector()\n",
    "# interactionPtr = ROOT.Interaction()\n",
    "# stationPtr = ROOT.ARA_station()\n",
    "\n",
    "usefulEvent2 = ROOT.UsefulAtriStationEvent()\n",
    "# rawEvent = ROOT.RawAtriStationEvent()\n",
    "eventTree2.SetBranchAddress(\"UsefulAtriStationEvent\",ROOT.AddressOf(usefulEvent2))\n",
    "# eventTree.SetBranchAddress(\"RawAtriStationEvent\",ROOT.AddressOf(rawEvent))\n",
    "# simTree.SetBranchAddress(\"report\",ROOT.AddressOf(reportPtr))\n",
    "# simTree.SetBranchAddress(\"event\", ROOT.AddressOf(eventPtr))\n",
    "# simTree.SetBranchAddress(\"Nu_Interaction\", ROOT.AddressOf(interactionPtr))\n",
    "# simSettingsTree.SetBranchAddress(\"detector\", ROOT.AddressOf(detectorPtr))\n",
    "# simSettingsTree.SetBranchAddress(\"stations\", ROOT.AddressOf(stationPtr))\n",
    "# simSettingsTree.GetEntry(0)\n",
    "\n",
    "totalRawEvents = eventTree2.GetEntries()\n",
    "# print('total raw events:', totalRawEvents) \n",
    "\n",
    "# totalRecoEvents = vertexReco.GetEntries()\n",
    "# print('total reco events:', totalRecoEvents)\n",
    "\n",
    "# if (totalRecoEvents != totalRawEvents):\n",
    "# print(\"ERROR: Raw event file and reconstructed event file have different number of events! Ensure that you are using compatible files!\")\n",
    "# sys.exit\n",
    "print(totalRawEvents)"
   ]
  },
  {
   "cell_type": "code",
   "execution_count": null,
   "id": "19044e3f-329f-458b-b74d-70a6315dbb8d",
   "metadata": {},
   "outputs": [],
   "source": [
    "evt=0\n",
    "# vertexReco.GetEntry(evt)\n",
    "eventTree2.GetEntry(evt)\n",
    "# util.plotDeconvolvedWaveform(usefulEvent, vertexReco, deconvolution=False)\n",
    "\n",
    "np.array(usefulEvent2.fVolts[2]).shape"
   ]
  },
  {
   "cell_type": "code",
   "execution_count": null,
   "id": "07eb2fa2-db8f-46dc-9d3b-1c2a8246b227",
   "metadata": {},
   "outputs": [],
   "source": [
    "# util.plotDeconvolvedWaveform(usefulEvent2, vertexReco, deconvolution=False)"
   ]
  },
  {
   "cell_type": "code",
   "execution_count": null,
   "id": "74cc0ceb-77bc-4229-afb7-0ac67fca439e",
   "metadata": {},
   "outputs": [],
   "source": [
    "ch = 0\n",
    "volts = np.array(usefulEvent.fVolts[ch])\n",
    "times = np.array(usefulEvent.fTimes[ch])\n",
    "fig = plt.figure(figsize=(16,8))\n",
    "plt.plot(times, volts)\n",
    "plt.title(\"Raw Waveform\")\n",
    "plt.xlabel(\"Time [ns]\")\n",
    "plt.ylabel(\"Voltage [mV]\")"
   ]
  },
  {
   "cell_type": "code",
   "execution_count": null,
   "id": "aaffea53-a56f-41f5-b835-8ff063ff0070",
   "metadata": {},
   "outputs": [],
   "source": [
    "voltage, time = util.extractChannelWaveform(usefulEvent, 15)\n",
    "# voltage"
   ]
  },
  {
   "cell_type": "code",
   "execution_count": null,
   "id": "b2f1d17f-518b-401d-8ca9-9991b68c145c",
   "metadata": {},
   "outputs": [],
   "source": [
    "ch = 0\n",
    "volts = np.array(usefulEvent2.fVolts[ch])\n",
    "times = np.array(usefulEvent2.fTimes[ch])\n",
    "fig = plt.figure(figsize=(16,8))\n",
    "plt.plot(times, volts)\n",
    "plt.title(\"Deconvolved Waveform\")\n",
    "plt.xlabel(\"Time [ns]\")\n",
    "plt.ylabel(\"Voltage [mV]\")"
   ]
  },
  {
   "cell_type": "code",
   "execution_count": null,
   "id": "3a88185a-081a-42b3-8b86-cde3f3662965",
   "metadata": {},
   "outputs": [],
   "source": [
    "fft, freq, dT = util.doFFT(times, volts)"
   ]
  },
  {
   "cell_type": "code",
   "execution_count": null,
   "id": "9e0fe2b2-265f-465f-931a-dee52dcc1fbf",
   "metadata": {},
   "outputs": [],
   "source": [
    "psd = np.abs(fft**2)\n",
    "fig = plt.figure(figsize=(16,8))\n",
    "plt.plot(freq,psd)\n",
    "plt.title(\"Frequency Spectrum\")\n",
    "plt.xlabel(\"Frequency [MHz]\")\n",
    "plt.ylabel(\"Spectral Density [arb]\")\n",
    "# plt.axvline(140, color='k', linestyle='--')\n",
    "# plt.axvline(825, color='k', linestyle='--')"
   ]
  },
  {
   "cell_type": "code",
   "execution_count": null,
   "id": "b47f0516-fa55-4484-811b-702938bf30a7",
   "metadata": {},
   "outputs": [],
   "source": [
    "ch = 0\n",
    "volts = np.array(usefulEvent.fVolts[ch])\n",
    "times = np.array(usefulEvent.fTimes[ch])\n",
    "volts = volts[:200]\n",
    "times = times[:200]\n",
    "fig = plt.figure(figsize=(16,8))\n",
    "plt.plot(times, volts)\n",
    "plt.title(\"Raw Waveform\")\n",
    "plt.xlabel(\"Time [ns]\")\n",
    "plt.ylabel(\"Voltage [mV]\")"
   ]
  },
  {
   "cell_type": "code",
   "execution_count": null,
   "id": "e07d2228-0844-4ba1-ae7c-ff4886e31200",
   "metadata": {},
   "outputs": [],
   "source": [
    "ch = 0\n",
    "volts = np.array(usefulEvent2.fVolts[ch])\n",
    "times = np.array(usefulEvent2.fTimes[ch])\n",
    "volts = volts[:200]\n",
    "times = times[:200]\n",
    "fig = plt.figure(figsize=(16,8))\n",
    "plt.plot(times, volts)\n",
    "plt.title(\"Deconvolved Waveform\")\n",
    "plt.xlabel(\"Time [ns]\")\n",
    "plt.ylabel(\"Voltage [mV]\")"
   ]
  },
  {
   "cell_type": "code",
   "execution_count": null,
   "id": "94630c73-7a6d-4c37-81f9-bda0656ac1c2",
   "metadata": {},
   "outputs": [],
   "source": [
    "fftNoise, freqNoise, dTNoise = util.doFFT(times, volts)\n",
    "psdNoise = np.abs(fftNoise**2)\n",
    "fig = plt.figure(figsize=(16,8))\n",
    "plt.plot(freqNoise,psdNoise)\n",
    "plt.title(\"Frequency Spectrum\")\n",
    "plt.xlabel(\"Frequency [MHz]\")\n",
    "plt.ylabel(\"Spectral Density [arb]\")"
   ]
  },
  {
   "cell_type": "code",
   "execution_count": null,
   "id": "f9d4f32c-29dc-46bc-8b01-3de9e500fadb",
   "metadata": {},
   "outputs": [],
   "source": [
    "#Interpolate noise spectrum to match shape of signal\n",
    "f = scipy.interpolate.interp1d(freqNoise, fftNoise)\n",
    "fftNoiseInterp = f(freq)\n",
    "psdNoiseInterp = np.abs(fftNoiseInterp**2)\n",
    "fig = plt.figure(figsize=(16,8))\n",
    "plt.plot(freq,psdNoiseInterp)\n",
    "plt.title(\"Frequency Spectrum\")\n",
    "plt.xlabel(\"Frequency [MHz]\")\n",
    "plt.ylabel(\"Spectral Density [arb]\")"
   ]
  },
  {
   "cell_type": "code",
   "execution_count": null,
   "id": "9f829f53-3f83-46f2-b35e-4db364429d0b",
   "metadata": {},
   "outputs": [],
   "source": [
    "#Subtract noise from signal spectrum\n",
    "fftSubtracted = fft - fftNoiseInterp\n",
    "psdSubtracted = np.abs(fftSubtracted**2)\n",
    "fig = plt.figure(figsize=(16,8))\n",
    "plt.plot(freq,psdSubtracted)\n",
    "plt.title(\"Frequency Spectrum\")\n",
    "plt.xlabel(\"Frequency [MHz]\")\n",
    "plt.ylabel(\"Spectral Density [arb]\")"
   ]
  },
  {
   "cell_type": "code",
   "execution_count": null,
   "id": "2015b861-1e60-410b-bec2-11254f2b8f34",
   "metadata": {},
   "outputs": [],
   "source": [
    "ch = 0\n",
    "freq = np.arange(0,1000,0.05)\n",
    "gain = np.empty(freq.shape)\n",
    "for i in range(len(gain)):\n",
    "    gain[i] = detectorPtr.GetElectGain_1D_OutZero(freq[i],ch)\n",
    "fig = plt.figure(figsize=(16,8))\n",
    "plt.plot(freq, gain)\n",
    "plt.title(\"Electronics Gain versus Frequency for Channel \" + str(ch))\n",
    "plt.xlabel(\"Frequency [MHz]\")\n",
    "plt.ylabel(\"Gain [dB?]\")\n",
    "plt.axvline(125, color='k', linestyle='--')\n",
    "plt.axvline(850, color='k', linestyle='--')\n",
    "plt.show()"
   ]
  },
  {
   "cell_type": "code",
   "execution_count": null,
   "id": "605964bc-d730-448c-9cab-ddf185d59dc8",
   "metadata": {},
   "outputs": [],
   "source": [
    "fig = plt.figure(figsize=(16,8))\n",
    "for ch in range(16):\n",
    "    freq = np.arange(0,1000,0.05)\n",
    "    gain = np.empty(freq.shape)\n",
    "    for i in range(len(gain)):\n",
    "        gain[i] = detectorPtr.GetElectGain_1D_OutZero(freq[i],ch)\n",
    "    \n",
    "    plt.plot(freq, gain, label=\"Ch. \" + str(ch))\n",
    "    # plt.title(\"Electronics Gain versus Frequency for Channel \" + str(ch))\n",
    "    plt.xlabel(\"Frequency [MHz]\")\n",
    "    plt.ylabel(\"Gain [dB?]\")\n",
    "\n",
    "\n",
    "    \n",
    "lowerEnd = 140\n",
    "upperEnd = 825\n",
    "plt.axvline(lowerEnd, color='k', linestyle='--', label=lowerEnd)\n",
    "plt.axvline(upperEnd, color='k', linestyle='--', label=upperEnd)\n",
    "\n",
    "notchFilter = 450\n",
    "plt.axvline(notchFilter, color = 'k', label=\"Notch Filter at \" + str(notchFilter))\n",
    "\n",
    "plt.legend(fontsize=12)\n",
    "plt.title(\"Electronics Gain versus Frequency for A2 Config 6\")"
   ]
  },
  {
   "cell_type": "code",
   "execution_count": null,
   "id": "82a87818-d0ec-4d78-8a5e-16754b228e12",
   "metadata": {},
   "outputs": [],
   "source": [
    "#Making electronics gain plot for ICRC paper showing only channels used in analysis.\n",
    "fig = plt.figure(figsize=(16,8))\n",
    "for ch in range(16):\n",
    "    if ch in [5,7,13,15]:\n",
    "        continue\n",
    "    freq = np.arange(0,1000,0.05)\n",
    "    gain = np.empty(freq.shape)\n",
    "    for i in range(len(gain)):\n",
    "        gain[i] = detectorPtr.GetElectGain_1D_OutZero(freq[i],ch)\n",
    "    \n",
    "    plt.plot(freq, gain, label=\"Ch. \" + str(ch))\n",
    "    # plt.title(\"Electronics Gain versus Frequency for Channel \" + str(ch))\n",
    "    plt.xlabel(\"Frequency [MHz]\")\n",
    "    plt.ylabel(\"Gain [dB?]\")\n",
    "\n",
    "\n",
    "    \n",
    "# lowerEnd = 140\n",
    "# upperEnd = 825\n",
    "# plt.axvline(lowerEnd, color='k', linestyle='--', label=lowerEnd)\n",
    "# plt.axvline(upperEnd, color='k', linestyle='--', label=upperEnd)\n",
    "\n",
    "# notchFilter = 450\n",
    "# plt.axvline(notchFilter, color = 'k', label=\"Notch Filter at \" + str(notchFilter))\n",
    "\n",
    "plt.legend(fontsize=12)\n",
    "plt.title(\"Electronics Gain versus Frequency for A2 Config 6\")"
   ]
  },
  {
   "cell_type": "code",
   "execution_count": null,
   "id": "89de526a-66be-430c-b3c4-c113f326afb9",
   "metadata": {},
   "outputs": [],
   "source": [
    "fig = plt.figure(figsize=(16,8))\n",
    "for ch in range(2):\n",
    "    if (ch < 1):\n",
    "        pol = 0\n",
    "    else:\n",
    "        pol = 1\n",
    "    theta = np.degrees(np.array(vertexReco.reco_arrivalThetas_out)[ch])\n",
    "    phi = 36 #np.degrees(np.array(vertexReco.reco_arrivalPhis_out)[ch])        \n",
    "    freq = np.arange(0,1000,0.05)\n",
    "    gain = np.empty(freq.shape)\n",
    "    for i in range(len(gain)):\n",
    "        gain[i] = detectorPtr.GetGain_1D_OutZero(freq[i], theta, phi, pol)\n",
    "    \n",
    "    plt.plot(freq, gain, label=\"Pol \" + str(ch))\n",
    "    # plt.title(\"Electronics Gain versus Frequency for Channel \" + str(ch))\n",
    "    plt.xlabel(\"Frequency [MHz]\")\n",
    "    plt.ylabel(\"Gain [dB?]\")\n",
    "\n",
    "\n",
    "    \n",
    "lowerEnd = 140\n",
    "upperEnd = 825\n",
    "plt.axvline(lowerEnd, color='k', linestyle='--', label=lowerEnd)\n",
    "plt.axvline(upperEnd, color='k', linestyle='--', label=upperEnd)\n",
    "\n",
    "notchFilter = 450\n",
    "plt.axvline(notchFilter, color = 'k', label=\"Notch Filter at \" + str(notchFilter))\n",
    "\n",
    "plt.legend(fontsize=12)\n",
    "plt.title(\"Antenna Gain versus Frequency for A2 Config 6\")"
   ]
  },
  {
   "cell_type": "code",
   "execution_count": null,
   "id": "37521f81-ca3d-4cea-a7c8-31b9a9520316",
   "metadata": {},
   "outputs": [],
   "source": [
    "usefulEvent2.unixTime"
   ]
  },
  {
   "cell_type": "code",
   "execution_count": null,
   "id": "a4ca2b2e-27bc-4a28-a78a-b8f18dcaf15a",
   "metadata": {},
   "outputs": [],
   "source": [
    "#I need to get my deconvoluted root files working with the rest of my polReco code.\n",
    "util.plotDeconvolvedWaveform(usefulEvent2, vertexReco, deconvolution=False)"
   ]
  },
  {
   "cell_type": "code",
   "execution_count": null,
   "id": "4584a412-6af3-4fe3-9328-44bfd6783b75",
   "metadata": {},
   "outputs": [],
   "source": [
    "#I need to get my deconvoluted root files working with the rest of my polReco code.\n",
    "util.plotDeconvolvedWaveform(usefulEvent2, vertexReco, deconvolution=False, channelPair=1, Hilbert=True)"
   ]
  },
  {
   "cell_type": "code",
   "execution_count": null,
   "id": "0d28bc03-ab9b-4d57-9d5a-3c3027517288",
   "metadata": {},
   "outputs": [],
   "source": [
    "# usefulEvent2.getGraphFromRFChan(3)\n",
    "np.array(usefulEvent.fVolts)"
   ]
  },
  {
   "cell_type": "code",
   "execution_count": null,
   "id": "24d4a500-2a71-43df-bcaf-fa84b10e8476",
   "metadata": {},
   "outputs": [],
   "source": [
    "np.array(usefulEvent.fVolts[3]).max()"
   ]
  },
  {
   "cell_type": "code",
   "execution_count": null,
   "id": "3b4920a2-ec9c-44e7-ba64-1001767755cf",
   "metadata": {},
   "outputs": [],
   "source": [
    "gr = usefulEvent2.getGraphFromRFChan(ch)\n",
    "grBandPass = ROOT.FFTtools.simplePassBandFilter(gr, 125, 400)\n",
    "\n",
    "voltageBefore = np.array(gr.GetY())\n",
    "timeBefore = np.array(gr.GetX())\n",
    "\n",
    "voltageAfter = np.array(grBandPass.GetY())\n",
    "timeAfter = np.array(grBandPass.GetX())\n",
    "\n",
    "plt.plot(timeBefore, voltageBefore)\n",
    "plt.show()\n",
    "plt.plot(timeAfter, voltageAfter)\n",
    "plt.show()"
   ]
  },
  {
   "cell_type": "code",
   "execution_count": null,
   "id": "3ccf4220-d866-469a-98be-b15e5225044e",
   "metadata": {},
   "outputs": [],
   "source": [
    "\n",
    "# filterType = ROOT.FFTtools.FilterTopology().LOWPASS\n",
    "# butterworthFilter = ROOT.FFTtools.ButterworthFilter(filterType, 1, 400)\n",
    "# # filterType.BANDPASS\n",
    "# # ROOT.FFTtools.ButterworthFilter.ButterworthFilter(filterType, 1, 400)\n",
    "# butterworthFilter"
   ]
  },
  {
   "cell_type": "code",
   "execution_count": null,
   "id": "993b0440-21d5-42b2-8bae-416fb59ab6bb",
   "metadata": {},
   "outputs": [],
   "source": [
    "gr.GetN()"
   ]
  },
  {
   "cell_type": "code",
   "execution_count": null,
   "id": "5dcc66eb-d437-42a0-a234-5d57a25e8f69",
   "metadata": {},
   "outputs": [],
   "source": [
    "#Test building my own butterworth filter\n",
    "order = 1\n",
    "freqMin = 125\n",
    "freqMax = 400\n",
    "sampRate = freq[1]-freq[0]\n",
    "sampRate"
   ]
  },
  {
   "cell_type": "code",
   "execution_count": null,
   "id": "81a5a6cf-162a-4612-8c3c-a18983d120ca",
   "metadata": {},
   "outputs": [],
   "source": []
  },
  {
   "cell_type": "code",
   "execution_count": null,
   "id": "9f48a016-4542-4100-b99f-b4819f647f11",
   "metadata": {},
   "outputs": [],
   "source": [
    "# b,a = signal.bessel(4, [0.15,0.4], 'bandpass', analog=False, fs=sampRate)"
   ]
  },
  {
   "cell_type": "code",
   "execution_count": null,
   "id": "3d97095d-8607-482e-aa8f-363d03060202",
   "metadata": {},
   "outputs": [],
   "source": [
    "# plt.plot(b)"
   ]
  },
  {
   "cell_type": "code",
   "execution_count": null,
   "id": "b0e48ef6-ee1f-43b8-929d-08eaa5b51413",
   "metadata": {},
   "outputs": [],
   "source": [
    "# plt.plot(a)"
   ]
  },
  {
   "cell_type": "code",
   "execution_count": null,
   "id": "a269584c-28a1-4356-a57a-b9e3f3918e36",
   "metadata": {},
   "outputs": [],
   "source": [
    "b, a = signal.butter(4, 100, 'low', analog=True)\n",
    "w, h = signal.freqs(b, a)\n",
    "plt.semilogx(w, 20 * np.log10(abs(h)))\n",
    "plt.title('Butterworth filter frequency response')\n",
    "plt.xlabel('Frequency [radians / second]')\n",
    "plt.ylabel('Amplitude [dB]')\n",
    "plt.margins(0, 0.1)\n",
    "plt.grid(which='both', axis='both')\n",
    "plt.axvline(100, color='green') # cutoff frequency\n",
    "plt.show()"
   ]
  },
  {
   "cell_type": "code",
   "execution_count": null,
   "id": "49f8fdcf-ae07-4cc9-bbf1-cd55ecf6ec2b",
   "metadata": {},
   "outputs": [],
   "source": [
    "b, a = signal.butter(4, [150,400], 'bandpass', analog=True)\n",
    "w, h = signal.freqs(b, a)\n",
    "plt.plot(w, (abs(h)))\n",
    "plt.title('Butterworth filter frequency response')\n",
    "plt.xlabel('Frequency [radians / second]')\n",
    "plt.ylabel('Amplitude [dB]')\n",
    "plt.margins(0, 0.1)\n",
    "plt.grid(which='both', axis='both')\n",
    "plt.axvline(100, color='green') # cutoff frequency\n",
    "plt.show()"
   ]
  },
  {
   "cell_type": "code",
   "execution_count": null,
   "id": "3503fff7-7455-4ed1-990a-6bd1ace5fdbe",
   "metadata": {},
   "outputs": [],
   "source": [
    "#Write my own butterworth filter so that I can add it into my C++ script\n",
    "freqMin = 150\n",
    "freqMax = 400\n",
    "freqs = np.arange(0,1000,0.05)\n",
    "testFilter = np.ones(freqs.shape)\n",
    "order = 16\n",
    "for i in range(len(freqs)):\n",
    "    # if (i%10 == 0):\n",
    "    #     print(i)\n",
    "    weight = 1\n",
    "    #Play with just high and low pass functions\n",
    "    weight /= np.sqrt(1 + (freqMin/freqs[i])**(2*order))\n",
    "    weight /= np.sqrt(1 + (freqs[i]/freqMax)**(2*order))\n",
    "    # if (freqs[i] < freqMin):\n",
    "    #     weight /= 1 + (freqMin/freqs[i])**(2*order)\n",
    "    # if (freqs[i] > freqMax):\n",
    "    #     weight /= 1 + (freqs[i]/freqMax)**(2*order)\n",
    "    testFilter[i] *= weight\n",
    "plt.plot(freqs,testFilter)\n",
    "plt.plot(w, (abs(h)))"
   ]
  },
  {
   "cell_type": "code",
   "execution_count": null,
   "id": "f56022c0-3e1c-4e8f-b6a4-b72cacc93d7c",
   "metadata": {},
   "outputs": [],
   "source": [
    "\n",
    "b, a = signal.butter(3, [150,400], 'bandpass', analog=True)\n",
    "w, h = signal.freqs(b, a)\n",
    "#Write my own butterworth filter so that I can add it into my C++ script\n",
    "freqMin = 150\n",
    "freqMax = 400\n",
    "freqs = np.arange(0,1000,0.05)\n",
    "testFilter = np.ones(freqs.shape)\n",
    "order = 6\n",
    "for i in range(len(freqs)):\n",
    "    # if (i%10 == 0):\n",
    "    #     print(i)\n",
    "    weight = 1\n",
    "    #Play with just high and low pass functions\n",
    "    weight /= np.sqrt(1 + (freqMin/freqs[i])**(2*order))\n",
    "    weight /= np.sqrt(1 + (freqs[i]/freqMax)**(2*order))\n",
    "    # if (freqs[i] < freqMin):\n",
    "    #     weight /= 1 + (freqMin/freqs[i])**(2*order)\n",
    "    # if (freqs[i] > freqMax):\n",
    "    #     weight /= 1 + (freqs[i]/freqMax)**(2*order)\n",
    "    testFilter[i] *= weight\n",
    "plt.plot(freqs,testFilter)\n",
    "plt.plot(w, (abs(h)))"
   ]
  },
  {
   "cell_type": "code",
   "execution_count": null,
   "id": "754a065f-cec6-436c-9790-4702dccd2153",
   "metadata": {},
   "outputs": [],
   "source": [
    "#Write my own butterworth filter so that I can add it into my C++ script\n",
    "freqMin = 150\n",
    "freqMax = 400\n",
    "freqs = np.arange(0,1000,0.05)\n",
    "testFilter = np.ones(freqs.shape)\n",
    "order = 4\n",
    "for i in range(len(freqs)):\n",
    "    # if (i%10 == 0):\n",
    "    #     print(i)\n",
    "    weight = 1\n",
    "    #Play with just high and low pass functions\n",
    "    weight /= np.sqrt(1 + (freqMin/freqs[i])**(4*order))\n",
    "    weight /= np.sqrt(1 + (freqs[i]/freqMax)**(4*order))\n",
    "    # if (freqs[i] < freqMin):\n",
    "    #     weight /= 1 + (freqMin/freqs[i])**(2*order)\n",
    "    # if (freqs[i] > freqMax):\n",
    "    #     weight /= 1 + (freqs[i]/freqMax)**(2*order)\n",
    "    testFilter[i] *= weight\n",
    "fig = plt.figure(figsize=(16,8))\n",
    "plt.plot(freqs,testFilter)\n",
    "plt.title('Butterworth filter frequency response | Order = ' + str(order))\n",
    "plt.xlabel('Frequency [MHz]')\n",
    "plt.ylabel('Amplitude [arb]')\n",
    "plt.margins(0, 0.1)\n",
    "plt.grid(which='both', axis='both')\n",
    "plt.axvline(freqMin, color='k', linestyle='--') # cutoff frequency\n",
    "plt.axvline(freqMax, color='k', linestyle='--') # cutoff frequency\n",
    "plt.show()"
   ]
  },
  {
   "cell_type": "code",
   "execution_count": null,
   "id": "ebc22d06-1599-4bdf-95ff-01c79c68ec75",
   "metadata": {},
   "outputs": [],
   "source": [
    "#Write my own butterworth filter so that I can add it into my C++ script\n",
    "freqMin = 150\n",
    "freqMax = 300\n",
    "freqs = np.arange(0,1000,0.05)\n",
    "testFilter = np.ones(freqs.shape)\n",
    "order = 8\n",
    "for i in range(len(freqs)):\n",
    "    # if (i%10 == 0):\n",
    "    #     print(i)\n",
    "    weight = 1\n",
    "    #Play with just high and low pass functions\n",
    "    weight /= np.sqrt(1 + (freqMin/freqs[i])**(4*order))\n",
    "    weight /= np.sqrt(1 + (freqs[i]/freqMax)**(4*order))\n",
    "    # if (freqs[i] < freqMin):\n",
    "    #     weight /= 1 + (freqMin/freqs[i])**(2*order)\n",
    "    # if (freqs[i] > freqMax):\n",
    "    #     weight /= 1 + (freqs[i]/freqMax)**(2*order)\n",
    "    testFilter[i] *= weight\n",
    "fig = plt.figure(figsize=(16,8))\n",
    "plt.plot(freqs,testFilter)\n",
    "plt.title('Butterworth filter frequency response | Order = ' + str(order))\n",
    "plt.xlabel('Frequency [MHz]')\n",
    "plt.ylabel('Amplitude [arb]')\n",
    "plt.margins(0, 0.1)\n",
    "plt.grid(which='both', axis='both')\n",
    "plt.axvline(freqMin, color='k', linestyle='--') # cutoff frequency\n",
    "plt.axvline(freqMax, color='k', linestyle='--') # cutoff frequency\n",
    "plt.show()"
   ]
  },
  {
   "cell_type": "code",
   "execution_count": null,
   "id": "f1062386-5586-4ada-9859-5f46abf846ce",
   "metadata": {},
   "outputs": [],
   "source": [
    "#Butterworth filter plot for ICRC paper\n",
    "\n",
    "#Write my own butterworth filter so that I can add it into my C++ script\n",
    "freqMin = 150\n",
    "freqMax = 300\n",
    "freqs = np.arange(0,1000,0.05)\n",
    "testFilter = np.ones(freqs.shape)\n",
    "order = 8\n",
    "for i in range(len(freqs)):\n",
    "    # if (i%10 == 0):\n",
    "    #     print(i)\n",
    "    weight = 1\n",
    "    #Play with just high and low pass functions\n",
    "    weight /= np.sqrt(1 + (freqMin/freqs[i])**(4*order))\n",
    "    weight /= np.sqrt(1 + (freqs[i]/freqMax)**(4*order))\n",
    "    # if (freqs[i] < freqMin):\n",
    "    #     weight /= 1 + (freqMin/freqs[i])**(2*order)\n",
    "    # if (freqs[i] > freqMax):\n",
    "    #     weight /= 1 + (freqs[i]/freqMax)**(2*order)\n",
    "    testFilter[i] *= weight\n",
    "fig = plt.figure(figsize=(16,8))\n",
    "plt.plot(freqs,testFilter)\n",
    "plt.title('Butterworth Filter Frequency Response')\n",
    "plt.xlabel('Frequency [MHz]')\n",
    "plt.ylabel('Amplitude [arb]')\n",
    "plt.margins(0, 0.1)\n",
    "plt.grid(which='both', axis='both')\n",
    "plt.axvline(freqMin, color='k', linestyle='--') # cutoff frequency\n",
    "plt.axvline(freqMax, color='k', linestyle='--') # cutoff frequency\n",
    "plt.show()"
   ]
  },
  {
   "cell_type": "code",
   "execution_count": null,
   "id": "5c10b068-0f9f-49c6-8438-cbc86e0b1488",
   "metadata": {},
   "outputs": [],
   "source": [
    "#Write my own butterworth filter so that I can add it into my C++ script\n",
    "freqMin = 150\n",
    "freqMax = 400\n",
    "freqs = np.arange(0,1000,0.05)\n",
    "testFilter = np.ones(freqs.shape)\n",
    "order = 16\n",
    "for i in range(len(freqs)):\n",
    "    # if (i%10 == 0):\n",
    "    #     print(i)\n",
    "    weight = 1\n",
    "    #Play with just high and low pass functions\n",
    "    weight /= np.sqrt(1 + (freqMin/freqs[i])**(4*order))\n",
    "    weight /= np.sqrt(1 + (freqs[i]/freqMax)**(4*order))\n",
    "    # if (freqs[i] < freqMin):\n",
    "    #     weight /= 1 + (freqMin/freqs[i])**(2*order)\n",
    "    # if (freqs[i] > freqMax):\n",
    "    #     weight /= 1 + (freqs[i]/freqMax)**(2*order)\n",
    "    testFilter[i] *= weight\n",
    "fig = plt.figure(figsize=(16,8))\n",
    "plt.plot(freqs,testFilter)\n",
    "plt.title('Butterworth filter frequency response | Order = ' + str(order))\n",
    "plt.xlabel('Frequency [MHz]')\n",
    "plt.ylabel('Amplitude [arb]')\n",
    "plt.margins(0, 0.1)\n",
    "plt.grid(which='both', axis='both')\n",
    "plt.axvline(freqMin, color='k', linestyle='--') # cutoff frequency\n",
    "plt.axvline(freqMax, color='k', linestyle='--') # cutoff frequency\n",
    "plt.show()"
   ]
  },
  {
   "cell_type": "code",
   "execution_count": null,
   "id": "fcdbf52a-0148-4359-8bcc-85314b9fb759",
   "metadata": {},
   "outputs": [],
   "source": []
  },
  {
   "cell_type": "code",
   "execution_count": null,
   "id": "d62409b0-f8f9-4fd0-b402-c3f7047261eb",
   "metadata": {},
   "outputs": [],
   "source": []
  },
  {
   "cell_type": "code",
   "execution_count": null,
   "id": "3f1cd936-1065-4d23-809b-c2571da8fe51",
   "metadata": {},
   "outputs": [],
   "source": []
  },
  {
   "cell_type": "code",
   "execution_count": null,
   "id": "e9110264-b69b-4311-b249-96a49cf05968",
   "metadata": {},
   "outputs": [],
   "source": []
  },
  {
   "cell_type": "code",
   "execution_count": null,
   "id": "654d59e2-0cfb-4c47-b624-401ea4d5d05e",
   "metadata": {},
   "outputs": [],
   "source": []
  },
  {
   "cell_type": "code",
   "execution_count": null,
   "id": "ade139c9-5277-4371-97ac-f877f3ad4f04",
   "metadata": {},
   "outputs": [],
   "source": [
    "#Import spicecore data to troubleshoot graph when runngin getGraphFromRFChan()\n",
    "#Test importing deconvolvedWaveform file\n",
    "\n",
    "# deconvolvedFilename = \"/users/PAS0654/jflaherty13/source/AraSim/outputs/test/deconvolution/deconvolvedWaveforms_run_45.root\"\n",
    "spicecoreFilename = \"/users/PAS0654/jflaherty13/araAnalysis/araRecoAndSourceSearch/ARA_Reconstruction/data/A2/run_012559/split/event012559__0.root\"\n",
    "\n",
    "spicecoreFile = ROOT.TFile.Open(spicecoreFilename)\n",
    "\n",
    "eventTree3 = spicecoreFile.Get(\"eventTree\")\n",
    "\n",
    "rawEvent3 = ROOT.RawAtriStationEvent()\n",
    "eventTree3.SetBranchAddress(\"event\",ROOT.AddressOf(rawEvent3))\n",
    "\n",
    "totalRawEvents3 = eventTree3.GetEntries()\n",
    "print('total raw events:', totalRawEvents3)\n",
    "\n"
   ]
  },
  {
   "cell_type": "code",
   "execution_count": null,
   "id": "5c9f9d37-d513-4460-878d-732d86f02401",
   "metadata": {},
   "outputs": [],
   "source": [
    "eventTree3.GetEntry(0)\n",
    "usefulEvent3 = ROOT.UsefulAtriStationEvent(rawEvent3,ROOT.AraCalType.kLatestCalib)\n",
    "usefulEvent3.stationId"
   ]
  },
  {
   "cell_type": "code",
   "execution_count": null,
   "id": "faa30680-428c-49c6-97d3-63f1c366f94a",
   "metadata": {},
   "outputs": [],
   "source": [
    "ch=0\n",
    "gr = usefulEvent3.getGraphFromRFChan(ch)\n",
    "gr = ROOT.FFTtools.getInterpolatedGraph(gr,0.5)\n",
    "lenGraph = gr.GetN()    \n",
    "time = np.zeros(lenGraph)\n",
    "voltage = np.zeros(lenGraph)\n",
    "for k in range(0,gr.GetN()):\n",
    "    time[k] = gr.GetX()[k]\n",
    "    voltage[k] = gr.GetY()[k]\n",
    "    \n",
    "plt.plot(time,voltage)"
   ]
  },
  {
   "cell_type": "code",
   "execution_count": null,
   "id": "5619c61a-4e41-4ae1-ad98-3650b7e4f15e",
   "metadata": {},
   "outputs": [],
   "source": [
    "rawEvent3.stationId"
   ]
  },
  {
   "cell_type": "code",
   "execution_count": null,
   "id": "e186ed52-9d97-406d-9a40-608bf72458c0",
   "metadata": {},
   "outputs": [],
   "source": []
  },
  {
   "cell_type": "code",
   "execution_count": null,
   "id": "93c756d9-2af6-4e12-b8a7-1a9114aebbc3",
   "metadata": {},
   "outputs": [],
   "source": []
  },
  {
   "cell_type": "code",
   "execution_count": null,
   "id": "6cfed722-ea1a-497a-b852-7e926376bd95",
   "metadata": {},
   "outputs": [],
   "source": []
  },
  {
   "cell_type": "code",
   "execution_count": null,
   "id": "23ce8197-5e33-4ccc-a18e-491d412cc013",
   "metadata": {},
   "outputs": [],
   "source": [
    "#Making example plot for ICRC paper showing different polarization angles.\n",
    "primaryFont = 15\n",
    "secondaryFont = 15\n",
    "fig, axes = util.plotDeconvolvedWaveform(usefulEvent2, vertexReco, deconvolution=False, channelPair=1, Hilbert=True)\n",
    "fig.set_size_inches(6,8)\n",
    "fig.suptitle(\"$\\Psi$ = \" + str(runNumber) + \"º\", fontsize=2*primaryFont)\n",
    "fig.supylabel(\"Amplitude [arb]\",fontsize = primaryFont)\n",
    "fig.supxlabel(\"Time [ns]\",fontsize = primaryFont)\n",
    "axes[0].set_title(\"VPol Channel\", fontsize=secondaryFont)\n",
    "axes[1].set_title(\"HPol Channel\", fontsize=secondaryFont)\n",
    "\n",
    "vMin=-3\n",
    "vMax=3\n",
    "for ax in axes:\n",
    "    ax.set_ylim([vMin,vMax])"
   ]
  },
  {
   "cell_type": "code",
   "execution_count": null,
   "id": "c9c41aa8-706a-482e-875e-9c03435bd3f6",
   "metadata": {},
   "outputs": [],
   "source": [
    "#Making example plot for ICRC paper showing different polarization angles.\n",
    "primaryFont = 15\n",
    "secondaryFont = 15\n",
    "fig, axes = util.plotDeconvolvedWaveform(usefulEvent, vertexReco, deconvolution=False, channelPair=1, Hilbert=False)\n",
    "fig.set_size_inches(6,8)\n",
    "fig.suptitle(\"$\\Psi$ = \" + str(runNumber) + \"º\", fontsize=2*primaryFont)\n",
    "fig.supylabel(\"E-Field Amplitude [mV/m]\",fontsize = primaryFont)\n",
    "fig.supxlabel(\"Time [ns]\",fontsize = primaryFont)\n",
    "axes[0].set_title(\"VPol Channel\", fontsize=secondaryFont)\n",
    "axes[1].set_title(\"HPol Channel\", fontsize=secondaryFont)\n",
    "\n",
    "# vMin=-3\n",
    "# vMax=3\n",
    "# for ax in axes:\n",
    "#     ax.set_ylim([vMin,vMax])"
   ]
  },
  {
   "cell_type": "code",
   "execution_count": null,
   "id": "211b590f-882c-4524-9924-89df7a5fbd8f",
   "metadata": {},
   "outputs": [],
   "source": []
  }
 ],
 "metadata": {
  "kernelspec": {
   "display_name": "Python 3 (ipykernel)",
   "language": "python",
   "name": "python3"
  },
  "language_info": {
   "codemirror_mode": {
    "name": "ipython",
    "version": 3
   },
   "file_extension": ".py",
   "mimetype": "text/x-python",
   "name": "python",
   "nbconvert_exporter": "python",
   "pygments_lexer": "ipython3",
   "version": "3.9.1"
  }
 },
 "nbformat": 4,
 "nbformat_minor": 5
}
